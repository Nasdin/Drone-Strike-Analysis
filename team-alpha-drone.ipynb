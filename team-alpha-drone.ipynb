{
 "cells": [
  {
   "cell_type": "markdown",
   "metadata": {},
   "source": [
    "# Team Alpha Drone\n",
    "\n",
    "---\n",
    "\n",
    "Since the API from `api.dronestre.am` provides data on drone strikes in near real time, this might be useful to hold the President accountable if he/she promises to reduce drone strikes. \n",
    "\n",
    "**Your mission:** \n",
    "- Explore the drone strike data and describe it\n",
    "- Do some accomanying research to augment your analysis\n",
    "- Report back any good summary statistics\n",
    "\n",
    "**Also, we would like to know:**\n",
    " - Is this a good source of data?\n",
    " - Why / why not?\n",
    "\n",
    "\n",
    "One of the needs for data science in organizations is to bring measure to vague problems. What can be measured in this dataset with certainty? Drive your presentation from what can be measured, reported. \n",
    "\n",
    "Also, if possible, suggest what can be done with this data in terms of actionable outcomes and to what extent.\n",
    "     \n",
    "*Keep politics out of the presentation and group work. Let's keep the work and discussion to the data: what is measurable and insights we can draw.  This data isn't meant to prove or disprove anything. It's intended to be an interesting dataset to look at, not a platform for political discourse.*"
   ]
  },
  {
   "cell_type": "code",
   "execution_count": 90,
   "metadata": {
    "collapsed": true
   },
   "outputs": [],
   "source": [
    "# First we need to fetch some data using Python requests from API\n",
    "# Read more about Python requests:\n",
    "# http://docs.python-requests.org/en/master/user/quickstart/\n",
    "\n",
    "import requests\n",
    "import pandas as pd\n",
    "import numpy as np\n",
    "import re\n",
    "\n",
    "response = requests.get(\"http://api.dronestre.am/data\")\n",
    "json_data = response.json()\n",
    "drone_df = pd.DataFrame(json_data['strike'])"
   ]
  },
  {
   "cell_type": "markdown",
   "metadata": {
    "collapsed": true
   },
   "source": [
    "### Get the Head"
   ]
  },
  {
   "cell_type": "code",
   "execution_count": 91,
   "metadata": {},
   "outputs": [
    {
     "data": {
      "text/html": [
       "<div>\n",
       "<style>\n",
       "    .dataframe thead tr:only-child th {\n",
       "        text-align: right;\n",
       "    }\n",
       "\n",
       "    .dataframe thead th {\n",
       "        text-align: left;\n",
       "    }\n",
       "\n",
       "    .dataframe tbody tr th {\n",
       "        vertical-align: top;\n",
       "    }\n",
       "</style>\n",
       "<table border=\"1\" class=\"dataframe\">\n",
       "  <thead>\n",
       "    <tr style=\"text-align: right;\">\n",
       "      <th></th>\n",
       "      <th>_id</th>\n",
       "      <th>articles</th>\n",
       "      <th>bij_link</th>\n",
       "      <th>bij_summary_short</th>\n",
       "      <th>bureau_id</th>\n",
       "      <th>children</th>\n",
       "      <th>civilians</th>\n",
       "      <th>country</th>\n",
       "      <th>date</th>\n",
       "      <th>deaths</th>\n",
       "      <th>...</th>\n",
       "      <th>injuries</th>\n",
       "      <th>lat</th>\n",
       "      <th>location</th>\n",
       "      <th>lon</th>\n",
       "      <th>names</th>\n",
       "      <th>narrative</th>\n",
       "      <th>number</th>\n",
       "      <th>target</th>\n",
       "      <th>town</th>\n",
       "      <th>tweet_id</th>\n",
       "    </tr>\n",
       "  </thead>\n",
       "  <tbody>\n",
       "    <tr>\n",
       "      <th>0</th>\n",
       "      <td>55c79e711cbee48856a30886</td>\n",
       "      <td>[]</td>\n",
       "      <td>http://www.thebureauinvestigates.com/2012/03/2...</td>\n",
       "      <td>In the first known US targeted assassination u...</td>\n",
       "      <td>YEM001</td>\n",
       "      <td></td>\n",
       "      <td>0</td>\n",
       "      <td>Yemen</td>\n",
       "      <td>2002-11-03T00:00:00.000Z</td>\n",
       "      <td>6</td>\n",
       "      <td>...</td>\n",
       "      <td></td>\n",
       "      <td>15.47467</td>\n",
       "      <td>Marib Province</td>\n",
       "      <td>45.322755</td>\n",
       "      <td>[Qa'id Salim Sinan al-Harithi, Abu Ahmad al-Hi...</td>\n",
       "      <td>In the first known US targeted assassination u...</td>\n",
       "      <td>1</td>\n",
       "      <td></td>\n",
       "      <td></td>\n",
       "      <td>278544689483890688</td>\n",
       "    </tr>\n",
       "    <tr>\n",
       "      <th>1</th>\n",
       "      <td>55c79e711cbee48856a30887</td>\n",
       "      <td>[]</td>\n",
       "      <td>http://www.thebureauinvestigates.com/2011/08/1...</td>\n",
       "      <td>First known drone strike in Pakistan kills at ...</td>\n",
       "      <td>B1</td>\n",
       "      <td>2</td>\n",
       "      <td>2</td>\n",
       "      <td>Pakistan</td>\n",
       "      <td>2004-06-17T00:00:00.000Z</td>\n",
       "      <td>6-8</td>\n",
       "      <td>...</td>\n",
       "      <td>1</td>\n",
       "      <td>32.30512565</td>\n",
       "      <td>South Waziristan</td>\n",
       "      <td>69.57624435</td>\n",
       "      <td>[Nek Mohammad, Fakhar Zaman, Azmat Khan, Marez...</td>\n",
       "      <td>The first known fatal US drone strike inside P...</td>\n",
       "      <td>2</td>\n",
       "      <td>Nek Mohammed</td>\n",
       "      <td>Wana</td>\n",
       "      <td>278544750867533824</td>\n",
       "    </tr>\n",
       "    <tr>\n",
       "      <th>2</th>\n",
       "      <td>55c79e711cbee48856a30888</td>\n",
       "      <td>[]</td>\n",
       "      <td>http://www.thebureauinvestigates.com/2011/08/1...</td>\n",
       "      <td>Two killed, including Haitham al-Yemeni an al ...</td>\n",
       "      <td>B2</td>\n",
       "      <td></td>\n",
       "      <td></td>\n",
       "      <td>Pakistan</td>\n",
       "      <td>2005-05-08T00:00:00.000Z</td>\n",
       "      <td>2</td>\n",
       "      <td>...</td>\n",
       "      <td></td>\n",
       "      <td>32.98677989</td>\n",
       "      <td>North Waziristan</td>\n",
       "      <td>70.26082993</td>\n",
       "      <td>[Haitham al-Yemeni, Samiullah Khan]</td>\n",
       "      <td>2 people killed in a Predator strike which rep...</td>\n",
       "      <td>3</td>\n",
       "      <td>Haitham al-Yemeni</td>\n",
       "      <td>Toorikhel</td>\n",
       "      <td>278544812255367168</td>\n",
       "    </tr>\n",
       "    <tr>\n",
       "      <th>3</th>\n",
       "      <td>55c79e721cbee48856a30889</td>\n",
       "      <td>[]</td>\n",
       "      <td>http://www.thebureauinvestigates.com/2011/08/1...</td>\n",
       "      <td>Failed strike against Abu Hamza Rabia (\"al Qae...</td>\n",
       "      <td>B3</td>\n",
       "      <td>3</td>\n",
       "      <td>3-8</td>\n",
       "      <td>Pakistan</td>\n",
       "      <td>2005-11-05T00:00:00.000Z</td>\n",
       "      <td>8</td>\n",
       "      <td>...</td>\n",
       "      <td>1</td>\n",
       "      <td>32.99988191</td>\n",
       "      <td>North Waziristan</td>\n",
       "      <td>70.34082413</td>\n",
       "      <td>[]</td>\n",
       "      <td>A failed strike destroyed Abu Hamza Rabia's ho...</td>\n",
       "      <td>4</td>\n",
       "      <td>Abu Hamza Rabia</td>\n",
       "      <td>Mosaki</td>\n",
       "      <td>278544854483628032</td>\n",
       "    </tr>\n",
       "    <tr>\n",
       "      <th>4</th>\n",
       "      <td>55c79e721cbee48856a3088a</td>\n",
       "      <td>[]</td>\n",
       "      <td>http://www.thebureauinvestigates.com/2011/08/1...</td>\n",
       "      <td>Syrian Abu Hamza Rabia, the senior al Qaeda op...</td>\n",
       "      <td>B4</td>\n",
       "      <td>2</td>\n",
       "      <td>2</td>\n",
       "      <td>Pakistan</td>\n",
       "      <td>2005-12-01T00:00:00.000Z</td>\n",
       "      <td>5</td>\n",
       "      <td>...</td>\n",
       "      <td></td>\n",
       "      <td>33.00866349</td>\n",
       "      <td>North Waziristan</td>\n",
       "      <td>70.04196167</td>\n",
       "      <td>[Abu Hamza Rabia, Suleiman al-Moghrabi, Amer A...</td>\n",
       "      <td>5 people were killed, including 2 children, wh...</td>\n",
       "      <td>5</td>\n",
       "      <td>Abu Hamza Rabia</td>\n",
       "      <td>Haisori</td>\n",
       "      <td>278544895789133825</td>\n",
       "    </tr>\n",
       "  </tbody>\n",
       "</table>\n",
       "<p>5 rows × 22 columns</p>\n",
       "</div>"
      ],
      "text/plain": [
       "                        _id articles  \\\n",
       "0  55c79e711cbee48856a30886       []   \n",
       "1  55c79e711cbee48856a30887       []   \n",
       "2  55c79e711cbee48856a30888       []   \n",
       "3  55c79e721cbee48856a30889       []   \n",
       "4  55c79e721cbee48856a3088a       []   \n",
       "\n",
       "                                            bij_link  \\\n",
       "0  http://www.thebureauinvestigates.com/2012/03/2...   \n",
       "1  http://www.thebureauinvestigates.com/2011/08/1...   \n",
       "2  http://www.thebureauinvestigates.com/2011/08/1...   \n",
       "3  http://www.thebureauinvestigates.com/2011/08/1...   \n",
       "4  http://www.thebureauinvestigates.com/2011/08/1...   \n",
       "\n",
       "                                   bij_summary_short bureau_id children  \\\n",
       "0  In the first known US targeted assassination u...    YEM001            \n",
       "1  First known drone strike in Pakistan kills at ...        B1        2   \n",
       "2  Two killed, including Haitham al-Yemeni an al ...        B2            \n",
       "3  Failed strike against Abu Hamza Rabia (\"al Qae...        B3        3   \n",
       "4  Syrian Abu Hamza Rabia, the senior al Qaeda op...        B4        2   \n",
       "\n",
       "  civilians   country                      date deaths         ...          \\\n",
       "0         0     Yemen  2002-11-03T00:00:00.000Z      6         ...           \n",
       "1         2  Pakistan  2004-06-17T00:00:00.000Z    6-8         ...           \n",
       "2            Pakistan  2005-05-08T00:00:00.000Z      2         ...           \n",
       "3       3-8  Pakistan  2005-11-05T00:00:00.000Z      8         ...           \n",
       "4         2  Pakistan  2005-12-01T00:00:00.000Z      5         ...           \n",
       "\n",
       "  injuries          lat          location          lon  \\\n",
       "0              15.47467    Marib Province    45.322755   \n",
       "1        1  32.30512565  South Waziristan  69.57624435   \n",
       "2           32.98677989  North Waziristan  70.26082993   \n",
       "3        1  32.99988191  North Waziristan  70.34082413   \n",
       "4           33.00866349  North Waziristan  70.04196167   \n",
       "\n",
       "                                               names  \\\n",
       "0  [Qa'id Salim Sinan al-Harithi, Abu Ahmad al-Hi...   \n",
       "1  [Nek Mohammad, Fakhar Zaman, Azmat Khan, Marez...   \n",
       "2                [Haitham al-Yemeni, Samiullah Khan]   \n",
       "3                                                 []   \n",
       "4  [Abu Hamza Rabia, Suleiman al-Moghrabi, Amer A...   \n",
       "\n",
       "                                           narrative number  \\\n",
       "0  In the first known US targeted assassination u...      1   \n",
       "1  The first known fatal US drone strike inside P...      2   \n",
       "2  2 people killed in a Predator strike which rep...      3   \n",
       "3  A failed strike destroyed Abu Hamza Rabia's ho...      4   \n",
       "4  5 people were killed, including 2 children, wh...      5   \n",
       "\n",
       "              target       town            tweet_id  \n",
       "0                                278544689483890688  \n",
       "1       Nek Mohammed       Wana  278544750867533824  \n",
       "2  Haitham al-Yemeni  Toorikhel  278544812255367168  \n",
       "3    Abu Hamza Rabia     Mosaki  278544854483628032  \n",
       "4    Abu Hamza Rabia    Haisori  278544895789133825  \n",
       "\n",
       "[5 rows x 22 columns]"
      ]
     },
     "execution_count": 91,
     "metadata": {},
     "output_type": "execute_result"
    }
   ],
   "source": [
    "#Nas\n",
    "drone_df.head()"
   ]
  },
  {
   "cell_type": "markdown",
   "metadata": {},
   "source": [
    "### Drop unnecessary columns"
   ]
  },
  {
   "cell_type": "code",
   "execution_count": 92,
   "metadata": {},
   "outputs": [],
   "source": [
    "drone_df.drop( ['bij_link','articles','bij_summary_short','bureau_id','names','target','town','tweet_id','number','narrative' ],axis=1, inplace = True, errors='ignore')"
   ]
  },
  {
   "cell_type": "code",
   "execution_count": 93,
   "metadata": {},
   "outputs": [
    {
     "data": {
      "text/plain": [
       "Index([u'_id', u'children', u'civilians', u'country', u'date', u'deaths',\n",
       "       u'deaths_max', u'deaths_min', u'injuries', u'lat', u'location', u'lon'],\n",
       "      dtype='object')"
      ]
     },
     "execution_count": 93,
     "metadata": {},
     "output_type": "execute_result"
    }
   ],
   "source": [
    "drone_df.columns"
   ]
  },
  {
   "cell_type": "code",
   "execution_count": 94,
   "metadata": {},
   "outputs": [
    {
     "data": {
      "text/html": [
       "<div>\n",
       "<style>\n",
       "    .dataframe thead tr:only-child th {\n",
       "        text-align: right;\n",
       "    }\n",
       "\n",
       "    .dataframe thead th {\n",
       "        text-align: left;\n",
       "    }\n",
       "\n",
       "    .dataframe tbody tr th {\n",
       "        vertical-align: top;\n",
       "    }\n",
       "</style>\n",
       "<table border=\"1\" class=\"dataframe\">\n",
       "  <thead>\n",
       "    <tr style=\"text-align: right;\">\n",
       "      <th></th>\n",
       "      <th>_id</th>\n",
       "      <th>children</th>\n",
       "      <th>civilians</th>\n",
       "      <th>country</th>\n",
       "      <th>date</th>\n",
       "      <th>deaths</th>\n",
       "      <th>deaths_max</th>\n",
       "      <th>deaths_min</th>\n",
       "      <th>injuries</th>\n",
       "      <th>lat</th>\n",
       "      <th>location</th>\n",
       "      <th>lon</th>\n",
       "    </tr>\n",
       "  </thead>\n",
       "  <tbody>\n",
       "    <tr>\n",
       "      <th>0</th>\n",
       "      <td>55c79e711cbee48856a30886</td>\n",
       "      <td></td>\n",
       "      <td>0</td>\n",
       "      <td>Yemen</td>\n",
       "      <td>2002-11-03T00:00:00.000Z</td>\n",
       "      <td>6</td>\n",
       "      <td>6</td>\n",
       "      <td>6</td>\n",
       "      <td></td>\n",
       "      <td>15.47467</td>\n",
       "      <td>Marib Province</td>\n",
       "      <td>45.322755</td>\n",
       "    </tr>\n",
       "    <tr>\n",
       "      <th>1</th>\n",
       "      <td>55c79e711cbee48856a30887</td>\n",
       "      <td>2</td>\n",
       "      <td>2</td>\n",
       "      <td>Pakistan</td>\n",
       "      <td>2004-06-17T00:00:00.000Z</td>\n",
       "      <td>6-8</td>\n",
       "      <td>8</td>\n",
       "      <td>6</td>\n",
       "      <td>1</td>\n",
       "      <td>32.30512565</td>\n",
       "      <td>South Waziristan</td>\n",
       "      <td>69.57624435</td>\n",
       "    </tr>\n",
       "    <tr>\n",
       "      <th>2</th>\n",
       "      <td>55c79e711cbee48856a30888</td>\n",
       "      <td></td>\n",
       "      <td></td>\n",
       "      <td>Pakistan</td>\n",
       "      <td>2005-05-08T00:00:00.000Z</td>\n",
       "      <td>2</td>\n",
       "      <td>2</td>\n",
       "      <td>2</td>\n",
       "      <td></td>\n",
       "      <td>32.98677989</td>\n",
       "      <td>North Waziristan</td>\n",
       "      <td>70.26082993</td>\n",
       "    </tr>\n",
       "    <tr>\n",
       "      <th>3</th>\n",
       "      <td>55c79e721cbee48856a30889</td>\n",
       "      <td>3</td>\n",
       "      <td>3-8</td>\n",
       "      <td>Pakistan</td>\n",
       "      <td>2005-11-05T00:00:00.000Z</td>\n",
       "      <td>8</td>\n",
       "      <td>8</td>\n",
       "      <td>8</td>\n",
       "      <td>1</td>\n",
       "      <td>32.99988191</td>\n",
       "      <td>North Waziristan</td>\n",
       "      <td>70.34082413</td>\n",
       "    </tr>\n",
       "    <tr>\n",
       "      <th>4</th>\n",
       "      <td>55c79e721cbee48856a3088a</td>\n",
       "      <td>2</td>\n",
       "      <td>2</td>\n",
       "      <td>Pakistan</td>\n",
       "      <td>2005-12-01T00:00:00.000Z</td>\n",
       "      <td>5</td>\n",
       "      <td>5</td>\n",
       "      <td>5</td>\n",
       "      <td></td>\n",
       "      <td>33.00866349</td>\n",
       "      <td>North Waziristan</td>\n",
       "      <td>70.04196167</td>\n",
       "    </tr>\n",
       "  </tbody>\n",
       "</table>\n",
       "</div>"
      ],
      "text/plain": [
       "                        _id children civilians   country  \\\n",
       "0  55c79e711cbee48856a30886                  0     Yemen   \n",
       "1  55c79e711cbee48856a30887        2         2  Pakistan   \n",
       "2  55c79e711cbee48856a30888                     Pakistan   \n",
       "3  55c79e721cbee48856a30889        3       3-8  Pakistan   \n",
       "4  55c79e721cbee48856a3088a        2         2  Pakistan   \n",
       "\n",
       "                       date deaths deaths_max deaths_min injuries  \\\n",
       "0  2002-11-03T00:00:00.000Z      6          6          6            \n",
       "1  2004-06-17T00:00:00.000Z    6-8          8          6        1   \n",
       "2  2005-05-08T00:00:00.000Z      2          2          2            \n",
       "3  2005-11-05T00:00:00.000Z      8          8          8        1   \n",
       "4  2005-12-01T00:00:00.000Z      5          5          5            \n",
       "\n",
       "           lat          location          lon  \n",
       "0     15.47467    Marib Province    45.322755  \n",
       "1  32.30512565  South Waziristan  69.57624435  \n",
       "2  32.98677989  North Waziristan  70.26082993  \n",
       "3  32.99988191  North Waziristan  70.34082413  \n",
       "4  33.00866349  North Waziristan  70.04196167  "
      ]
     },
     "execution_count": 94,
     "metadata": {},
     "output_type": "execute_result"
    }
   ],
   "source": [
    "drone_df.head()"
   ]
  },
  {
   "cell_type": "markdown",
   "metadata": {},
   "source": [
    "### Identify these death columns for issues"
   ]
  },
  {
   "cell_type": "code",
   "execution_count": 95,
   "metadata": {},
   "outputs": [
    {
     "data": {
      "text/plain": [
       "array([u'6', u'8', u'2', u'5', u'22', u'83', u'4', u'34', u'10', u'0',\n",
       "       u'15', u'13', u'20', u'1', u'12', u'25', u'7', u'23', u'3', u'21',\n",
       "       u'9', u'11', u'16', u'35', u'31', u'14', u'40', u'17', u'18', u'27',\n",
       "       u'32', u'42', u'26', u'', u'50', u'?', u'24', u'30', u'38', u'200',\n",
       "       u'28', u'39'], dtype=object)"
      ]
     },
     "execution_count": 95,
     "metadata": {},
     "output_type": "execute_result"
    }
   ],
   "source": [
    "drone_df['deaths_max'].unique()"
   ]
  },
  {
   "cell_type": "code",
   "execution_count": 96,
   "metadata": {},
   "outputs": [
    {
     "data": {
      "text/plain": [
       "array([u'6', u'2', u'8', u'5', u'13', u'81', u'3', u'20', u'0', u'12',\n",
       "       u'1', u'4', u'17', u'10', u'21', u'7', u'15', u'11', u'26', u'30',\n",
       "       u'14', u'9', u'25', u'67', u'16', u'35', u'23', u'32', u'18', u'',\n",
       "       u'?', u'24', u'29', u'38', u'150', u'28', u'39'], dtype=object)"
      ]
     },
     "execution_count": 96,
     "metadata": {},
     "output_type": "execute_result"
    }
   ],
   "source": [
    "drone_df['deaths_min'].unique()"
   ]
  },
  {
   "cell_type": "code",
   "execution_count": 97,
   "metadata": {},
   "outputs": [
    {
     "data": {
      "text/plain": [
       "array([u'6', u'6-8', u'2', u'8', u'5', u'13-22', u'81-83', u'3-4',\n",
       "       u'20-34', u'5-10', u'Unknown', u'12-15', u'8-13', u'12-20', u'1',\n",
       "       u'6-12', u'13-25', u'8-12', u'0', u'4-5', u'4-10', u'5-7', u'5-12',\n",
       "       u'17-23', u'10-15', u'4-7', u'4-8', u'3', u'21', u'4-9', u'5-9',\n",
       "       u'7-11', u'15-20', u'4-25', u'4-12', u'11-16', u'11-13', u'4-6',\n",
       "       u'2-3', u'6-7', u'2-4', u'3-5', u'7-15', u'26-35', u'30-31',\n",
       "       u'7-12', u'14-25', u'2-5', u'7-8', u'12-14', u'13', u'4', u'0-8',\n",
       "       u'6-10', u'9-25', u'8-9', u'25-40', u'67-83', u'0-5', u'13-17',\n",
       "       u'16-18', u'8-10', u'35-40', u'5-6', u'2-12', u'17-21', u'5-8',\n",
       "       u'10-12', u'20-27', u'3-6', u'3-10', u'12-16', u'14-20', u'3-7',\n",
       "       u'15-18', u'20', u'9-15', u'23-23', u'9', u'7', u'5-13', u'10-11',\n",
       "       u'7-9', u'10', u'13-14', u'5-15', u'13-15', u'16-17', u'7-10',\n",
       "       u'10-14', u'14', u'6-9', u'11-12', u'16', u'9-10', u'8-14',\n",
       "       u'11-14', u'0-4', u'11-15', u'32', u'18-22', u'26-42', u'25-26',\n",
       "       u'18-23', u'14-21', u'12-25', u'6-50', u'13-16', u'20-25', u'0-6',\n",
       "       u'3-8', u'15-17', u'11', u'1-2', u'16-22', u'1-4', u'8-15',\n",
       "       u'23-34', u'24', u'29-30', u'38', u'12-17', u'14-42', u'1-18',\n",
       "       u'10-18', u'3-13', u'17-24', u'5-25', u'13-18', u'12', u'6-15',\n",
       "       u'16-26', u'1-5', u'4-11', u'6-11', u'8-18', u'1-3', u'2-6',\n",
       "       u'10-17', u'1-6', u'0-2', u'2-9', u'13-21', u'24-31', u'15',\n",
       "       u'2-30', u'150', u'28', u'39'], dtype=object)"
      ]
     },
     "execution_count": 97,
     "metadata": {},
     "output_type": "execute_result"
    }
   ],
   "source": [
    "drone_df['deaths'].unique()"
   ]
  },
  {
   "cell_type": "markdown",
   "metadata": {},
   "source": [
    "### 'Deaths' has a lot of ambiguous values, we shall take deaths to be the mid point between max and min. Then drop both of them."
   ]
  },
  {
   "cell_type": "code",
   "execution_count": 98,
   "metadata": {},
   "outputs": [
    {
     "ename": "TypeError",
     "evalue": "unsupported operand type(s) for /: 'unicode' and 'int'",
     "output_type": "error",
     "traceback": [
      "\u001b[1;31m---------------------------------------------------------------------------\u001b[0m",
      "\u001b[1;31mTypeError\u001b[0m                                 Traceback (most recent call last)",
      "\u001b[1;32m<ipython-input-98-6dc5a2fbcaf1>\u001b[0m in \u001b[0;36m<module>\u001b[1;34m()\u001b[0m\n\u001b[1;32m----> 1\u001b[1;33m \u001b[0mdeath\u001b[0m \u001b[1;33m=\u001b[0m \u001b[1;33m(\u001b[0m\u001b[0mdrone_df\u001b[0m\u001b[1;33m[\u001b[0m\u001b[1;34m'deaths_max'\u001b[0m\u001b[1;33m]\u001b[0m \u001b[1;33m+\u001b[0m \u001b[0mdrone_df\u001b[0m\u001b[1;33m[\u001b[0m\u001b[1;34m'deaths_min'\u001b[0m\u001b[1;33m]\u001b[0m\u001b[1;33m)\u001b[0m \u001b[1;33m/\u001b[0m\u001b[1;36m2\u001b[0m\u001b[1;33m\u001b[0m\u001b[0m\n\u001b[0m",
      "\u001b[1;32mC:\\ProgramData\\Anaconda2\\lib\\site-packages\\pandas\\core\\ops.pyc\u001b[0m in \u001b[0;36mwrapper\u001b[1;34m(left, right, name, na_op)\u001b[0m\n\u001b[0;32m    719\u001b[0m                 \u001b[0mlvalues\u001b[0m \u001b[1;33m=\u001b[0m \u001b[0mlvalues\u001b[0m\u001b[1;33m.\u001b[0m\u001b[0mvalues\u001b[0m\u001b[1;33m\u001b[0m\u001b[0m\n\u001b[0;32m    720\u001b[0m \u001b[1;33m\u001b[0m\u001b[0m\n\u001b[1;32m--> 721\u001b[1;33m         \u001b[0mresult\u001b[0m \u001b[1;33m=\u001b[0m \u001b[0mwrap_results\u001b[0m\u001b[1;33m(\u001b[0m\u001b[0msafe_na_op\u001b[0m\u001b[1;33m(\u001b[0m\u001b[0mlvalues\u001b[0m\u001b[1;33m,\u001b[0m \u001b[0mrvalues\u001b[0m\u001b[1;33m)\u001b[0m\u001b[1;33m)\u001b[0m\u001b[1;33m\u001b[0m\u001b[0m\n\u001b[0m\u001b[0;32m    722\u001b[0m         return construct_result(\n\u001b[0;32m    723\u001b[0m             \u001b[0mleft\u001b[0m\u001b[1;33m,\u001b[0m\u001b[1;33m\u001b[0m\u001b[0m\n",
      "\u001b[1;32mC:\\ProgramData\\Anaconda2\\lib\\site-packages\\pandas\\core\\ops.pyc\u001b[0m in \u001b[0;36msafe_na_op\u001b[1;34m(lvalues, rvalues)\u001b[0m\n\u001b[0;32m    690\u001b[0m                 \u001b[1;32mif\u001b[0m \u001b[0mis_object_dtype\u001b[0m\u001b[1;33m(\u001b[0m\u001b[0mlvalues\u001b[0m\u001b[1;33m)\u001b[0m\u001b[1;33m:\u001b[0m\u001b[1;33m\u001b[0m\u001b[0m\n\u001b[0;32m    691\u001b[0m                     return libalgos.arrmap_object(lvalues,\n\u001b[1;32m--> 692\u001b[1;33m                                                   lambda x: op(x, rvalues))\n\u001b[0m\u001b[0;32m    693\u001b[0m             \u001b[1;32mraise\u001b[0m\u001b[1;33m\u001b[0m\u001b[0m\n\u001b[0;32m    694\u001b[0m \u001b[1;33m\u001b[0m\u001b[0m\n",
      "\u001b[1;32mpandas\\_libs\\algos_common_helper.pxi\u001b[0m in \u001b[0;36mpandas._libs.algos.arrmap_object (pandas\\_libs\\algos.c:31954)\u001b[1;34m()\u001b[0m\n",
      "\u001b[1;32mC:\\ProgramData\\Anaconda2\\lib\\site-packages\\pandas\\core\\ops.pyc\u001b[0m in \u001b[0;36m<lambda>\u001b[1;34m(x)\u001b[0m\n\u001b[0;32m    690\u001b[0m                 \u001b[1;32mif\u001b[0m \u001b[0mis_object_dtype\u001b[0m\u001b[1;33m(\u001b[0m\u001b[0mlvalues\u001b[0m\u001b[1;33m)\u001b[0m\u001b[1;33m:\u001b[0m\u001b[1;33m\u001b[0m\u001b[0m\n\u001b[0;32m    691\u001b[0m                     return libalgos.arrmap_object(lvalues,\n\u001b[1;32m--> 692\u001b[1;33m                                                   lambda x: op(x, rvalues))\n\u001b[0m\u001b[0;32m    693\u001b[0m             \u001b[1;32mraise\u001b[0m\u001b[1;33m\u001b[0m\u001b[0m\n\u001b[0;32m    694\u001b[0m \u001b[1;33m\u001b[0m\u001b[0m\n",
      "\u001b[1;31mTypeError\u001b[0m: unsupported operand type(s) for /: 'unicode' and 'int'"
     ]
    }
   ],
   "source": [
    "death = (drone_df['deaths_max'] + drone_df['deaths_min']) /2"
   ]
  },
  {
   "cell_type": "code",
   "execution_count": 105,
   "metadata": {},
   "outputs": [],
   "source": [
    "drone_df['deaths'] = death\n",
    "drone_df.drop( ['deaths_max','deaths_min' ],axis=1, inplace = True, errors='ignore')"
   ]
  },
  {
   "cell_type": "markdown",
   "metadata": {},
   "source": [
    "### Check the labels"
   ]
  },
  {
   "cell_type": "code",
   "execution_count": 106,
   "metadata": {},
   "outputs": [
    {
     "data": {
      "text/html": [
       "<div>\n",
       "<style>\n",
       "    .dataframe thead tr:only-child th {\n",
       "        text-align: right;\n",
       "    }\n",
       "\n",
       "    .dataframe thead th {\n",
       "        text-align: left;\n",
       "    }\n",
       "\n",
       "    .dataframe tbody tr th {\n",
       "        vertical-align: top;\n",
       "    }\n",
       "</style>\n",
       "<table border=\"1\" class=\"dataframe\">\n",
       "  <thead>\n",
       "    <tr style=\"text-align: right;\">\n",
       "      <th></th>\n",
       "      <th>_id</th>\n",
       "      <th>children</th>\n",
       "      <th>civilians</th>\n",
       "      <th>country</th>\n",
       "      <th>date</th>\n",
       "      <th>deaths</th>\n",
       "      <th>injuries</th>\n",
       "      <th>lat</th>\n",
       "      <th>location</th>\n",
       "      <th>lon</th>\n",
       "    </tr>\n",
       "  </thead>\n",
       "  <tbody>\n",
       "    <tr>\n",
       "      <th>0</th>\n",
       "      <td>55c79e711cbee48856a30886</td>\n",
       "      <td></td>\n",
       "      <td>0</td>\n",
       "      <td>Yemen</td>\n",
       "      <td>2002-11-03T00:00:00.000Z</td>\n",
       "      <td>66</td>\n",
       "      <td></td>\n",
       "      <td>15.47467</td>\n",
       "      <td>Marib Province</td>\n",
       "      <td>45.322755</td>\n",
       "    </tr>\n",
       "    <tr>\n",
       "      <th>1</th>\n",
       "      <td>55c79e711cbee48856a30887</td>\n",
       "      <td>2</td>\n",
       "      <td>2</td>\n",
       "      <td>Pakistan</td>\n",
       "      <td>2004-06-17T00:00:00.000Z</td>\n",
       "      <td>86</td>\n",
       "      <td>1</td>\n",
       "      <td>32.30512565</td>\n",
       "      <td>South Waziristan</td>\n",
       "      <td>69.57624435</td>\n",
       "    </tr>\n",
       "    <tr>\n",
       "      <th>2</th>\n",
       "      <td>55c79e711cbee48856a30888</td>\n",
       "      <td></td>\n",
       "      <td>0</td>\n",
       "      <td>Pakistan</td>\n",
       "      <td>2005-05-08T00:00:00.000Z</td>\n",
       "      <td>22</td>\n",
       "      <td></td>\n",
       "      <td>32.98677989</td>\n",
       "      <td>North Waziristan</td>\n",
       "      <td>70.26082993</td>\n",
       "    </tr>\n",
       "    <tr>\n",
       "      <th>3</th>\n",
       "      <td>55c79e721cbee48856a30889</td>\n",
       "      <td>3</td>\n",
       "      <td>0</td>\n",
       "      <td>Pakistan</td>\n",
       "      <td>2005-11-05T00:00:00.000Z</td>\n",
       "      <td>88</td>\n",
       "      <td>1</td>\n",
       "      <td>32.99988191</td>\n",
       "      <td>North Waziristan</td>\n",
       "      <td>70.34082413</td>\n",
       "    </tr>\n",
       "    <tr>\n",
       "      <th>4</th>\n",
       "      <td>55c79e721cbee48856a3088a</td>\n",
       "      <td>2</td>\n",
       "      <td>2</td>\n",
       "      <td>Pakistan</td>\n",
       "      <td>2005-12-01T00:00:00.000Z</td>\n",
       "      <td>55</td>\n",
       "      <td></td>\n",
       "      <td>33.00866349</td>\n",
       "      <td>North Waziristan</td>\n",
       "      <td>70.04196167</td>\n",
       "    </tr>\n",
       "  </tbody>\n",
       "</table>\n",
       "</div>"
      ],
      "text/plain": [
       "                        _id children civilians   country  \\\n",
       "0  55c79e711cbee48856a30886                  0     Yemen   \n",
       "1  55c79e711cbee48856a30887        2         2  Pakistan   \n",
       "2  55c79e711cbee48856a30888                  0  Pakistan   \n",
       "3  55c79e721cbee48856a30889        3         0  Pakistan   \n",
       "4  55c79e721cbee48856a3088a        2         2  Pakistan   \n",
       "\n",
       "                       date deaths injuries          lat          location  \\\n",
       "0  2002-11-03T00:00:00.000Z     66              15.47467    Marib Province   \n",
       "1  2004-06-17T00:00:00.000Z     86        1  32.30512565  South Waziristan   \n",
       "2  2005-05-08T00:00:00.000Z     22           32.98677989  North Waziristan   \n",
       "3  2005-11-05T00:00:00.000Z     88        1  32.99988191  North Waziristan   \n",
       "4  2005-12-01T00:00:00.000Z     55           33.00866349  North Waziristan   \n",
       "\n",
       "           lon  \n",
       "0    45.322755  \n",
       "1  69.57624435  \n",
       "2  70.26082993  \n",
       "3  70.34082413  \n",
       "4  70.04196167  "
      ]
     },
     "execution_count": 106,
     "metadata": {},
     "output_type": "execute_result"
    }
   ],
   "source": [
    "drone_df.head()"
   ]
  },
  {
   "cell_type": "markdown",
   "metadata": {},
   "source": [
    "### Inspect Children's column"
   ]
  },
  {
   "cell_type": "code",
   "execution_count": 107,
   "metadata": {},
   "outputs": [
    {
     "data": {
      "text/plain": [
       "array([u'', u'2', u'3', u'1', u'5', u'69', u'0-1', u'Possibly', u'Yes',\n",
       "       u'4', u'8', u'4-Mar', u'0-3', u'At least 2', u'10', u'6',\n",
       "       u'At least 1', u'Yes, according to one source.', u'0', u'0-2'], dtype=object)"
      ]
     },
     "execution_count": 107,
     "metadata": {},
     "output_type": "execute_result"
    }
   ],
   "source": [
    "print drone_df['children'].unique\n",
    "print drone_df['civilians'].unique()"
   ]
  },
  {
   "cell_type": "markdown",
   "metadata": {},
   "source": [
    "### Make a loop to try and clean a column"
   ]
  },
  {
   "cell_type": "code",
   "execution_count": 131,
   "metadata": {},
   "outputs": [
    {
     "ename": "TypeError",
     "evalue": "invalid type comparison",
     "output_type": "error",
     "traceback": [
      "\u001b[1;31m---------------------------------------------------------------------------\u001b[0m",
      "\u001b[1;31mTypeError\u001b[0m                                 Traceback (most recent call last)",
      "\u001b[1;32m<ipython-input-131-868d8d32ccf9>\u001b[0m in \u001b[0;36m<module>\u001b[1;34m()\u001b[0m\n\u001b[0;32m      1\u001b[0m \u001b[0mcleancolumns\u001b[0m \u001b[1;33m=\u001b[0m \u001b[1;33m[\u001b[0m\u001b[1;34m'children'\u001b[0m\u001b[1;33m,\u001b[0m\u001b[1;34m'civilians'\u001b[0m\u001b[1;33m,\u001b[0m\u001b[1;34m'lat'\u001b[0m\u001b[1;33m,\u001b[0m\u001b[1;34m'lon'\u001b[0m\u001b[1;33m]\u001b[0m\u001b[1;33m\u001b[0m\u001b[0m\n\u001b[0;32m      2\u001b[0m \u001b[1;32mfor\u001b[0m \u001b[0mcolumn\u001b[0m \u001b[1;32min\u001b[0m \u001b[0mcleancolumns\u001b[0m\u001b[1;33m:\u001b[0m\u001b[1;33m\u001b[0m\u001b[0m\n\u001b[1;32m----> 3\u001b[1;33m     \u001b[0mblankmask\u001b[0m \u001b[1;33m=\u001b[0m \u001b[0mdrone_df\u001b[0m\u001b[1;33m[\u001b[0m\u001b[0mcolumn\u001b[0m\u001b[1;33m]\u001b[0m \u001b[1;33m==\u001b[0m \u001b[1;34m\"\"\u001b[0m\u001b[1;33m\u001b[0m\u001b[0m\n\u001b[0m\u001b[0;32m      4\u001b[0m     \u001b[0mdrone_df\u001b[0m\u001b[1;33m.\u001b[0m\u001b[0mloc\u001b[0m\u001b[1;33m[\u001b[0m\u001b[0mblankmask\u001b[0m\u001b[1;33m,\u001b[0m\u001b[0mcolumn\u001b[0m\u001b[1;33m]\u001b[0m \u001b[1;33m=\u001b[0m\u001b[1;36m0\u001b[0m\u001b[1;33m\u001b[0m\u001b[0m\n\u001b[0;32m      5\u001b[0m     \u001b[0mnewnumber\u001b[0m \u001b[1;33m=\u001b[0m\u001b[1;33m[\u001b[0m\u001b[1;33m]\u001b[0m\u001b[1;33m\u001b[0m\u001b[0m\n",
      "\u001b[1;32mC:\\ProgramData\\Anaconda2\\lib\\site-packages\\pandas\\core\\ops.pyc\u001b[0m in \u001b[0;36mwrapper\u001b[1;34m(self, other, axis)\u001b[0m\n\u001b[0;32m    859\u001b[0m \u001b[1;33m\u001b[0m\u001b[0m\n\u001b[0;32m    860\u001b[0m             \u001b[1;32mwith\u001b[0m \u001b[0mnp\u001b[0m\u001b[1;33m.\u001b[0m\u001b[0merrstate\u001b[0m\u001b[1;33m(\u001b[0m\u001b[0mall\u001b[0m\u001b[1;33m=\u001b[0m\u001b[1;34m'ignore'\u001b[0m\u001b[1;33m)\u001b[0m\u001b[1;33m:\u001b[0m\u001b[1;33m\u001b[0m\u001b[0m\n\u001b[1;32m--> 861\u001b[1;33m                 \u001b[0mres\u001b[0m \u001b[1;33m=\u001b[0m \u001b[0mna_op\u001b[0m\u001b[1;33m(\u001b[0m\u001b[0mvalues\u001b[0m\u001b[1;33m,\u001b[0m \u001b[0mother\u001b[0m\u001b[1;33m)\u001b[0m\u001b[1;33m\u001b[0m\u001b[0m\n\u001b[0m\u001b[0;32m    862\u001b[0m             \u001b[1;32mif\u001b[0m \u001b[0mis_scalar\u001b[0m\u001b[1;33m(\u001b[0m\u001b[0mres\u001b[0m\u001b[1;33m)\u001b[0m\u001b[1;33m:\u001b[0m\u001b[1;33m\u001b[0m\u001b[0m\n\u001b[0;32m    863\u001b[0m                 raise TypeError('Could not compare %s type with Series' %\n",
      "\u001b[1;32mC:\\ProgramData\\Anaconda2\\lib\\site-packages\\pandas\\core\\ops.pyc\u001b[0m in \u001b[0;36mna_op\u001b[1;34m(x, y)\u001b[0m\n\u001b[0;32m    798\u001b[0m                     \u001b[0mresult\u001b[0m \u001b[1;33m=\u001b[0m \u001b[0mgetattr\u001b[0m\u001b[1;33m(\u001b[0m\u001b[0mx\u001b[0m\u001b[1;33m,\u001b[0m \u001b[0mname\u001b[0m\u001b[1;33m)\u001b[0m\u001b[1;33m(\u001b[0m\u001b[0my\u001b[0m\u001b[1;33m)\u001b[0m\u001b[1;33m\u001b[0m\u001b[0m\n\u001b[0;32m    799\u001b[0m                 \u001b[1;32mif\u001b[0m \u001b[0mresult\u001b[0m \u001b[1;32mis\u001b[0m \u001b[0mNotImplemented\u001b[0m\u001b[1;33m:\u001b[0m\u001b[1;33m\u001b[0m\u001b[0m\n\u001b[1;32m--> 800\u001b[1;33m                     \u001b[1;32mraise\u001b[0m \u001b[0mTypeError\u001b[0m\u001b[1;33m(\u001b[0m\u001b[1;34m\"invalid type comparison\"\u001b[0m\u001b[1;33m)\u001b[0m\u001b[1;33m\u001b[0m\u001b[0m\n\u001b[0m\u001b[0;32m    801\u001b[0m             \u001b[1;32mexcept\u001b[0m \u001b[0mAttributeError\u001b[0m\u001b[1;33m:\u001b[0m\u001b[1;33m\u001b[0m\u001b[0m\n\u001b[0;32m    802\u001b[0m                 \u001b[0mresult\u001b[0m \u001b[1;33m=\u001b[0m \u001b[0mop\u001b[0m\u001b[1;33m(\u001b[0m\u001b[0mx\u001b[0m\u001b[1;33m,\u001b[0m \u001b[0my\u001b[0m\u001b[1;33m)\u001b[0m\u001b[1;33m\u001b[0m\u001b[0m\n",
      "\u001b[1;31mTypeError\u001b[0m: invalid type comparison"
     ]
    }
   ],
   "source": [
    "cleancolumns = ['children','civilians','lat','lon']\n",
    "for column in cleancolumns:\n",
    "    blankmask = drone_df[column] == \"\"\n",
    "    drone_df.loc[blankmask,column] =0\n",
    "    newnumber =[]\n",
    "    for string in drone_df[column]:\n",
    "        try:\n",
    "            newnumber.append(float(string))\n",
    "        except ValueError:\n",
    "            if string ==\"Possibly\" or string == \"Yes\" or \"according\" in string  or string ==\"Yes \" or \"mar\" in string or \"yes\" in string or \"Yes\" in string:\n",
    "                newnumber.append(1)\n",
    "            elif \"At least\" in string:\n",
    "                newnumber.append(string[len(\"At least \")+1:])\n",
    "\n",
    "            else:\n",
    "                newnumber.append(0)\n",
    "    \n",
    "\n",
    "       \n"
   ]
  },
  {
   "cell_type": "markdown",
   "metadata": {},
   "source": [
    "### Get the Shape"
   ]
  },
  {
   "cell_type": "code",
   "execution_count": 114,
   "metadata": {},
   "outputs": [
    {
     "data": {
      "text/plain": [
       "(647, 10)"
      ]
     },
     "execution_count": 114,
     "metadata": {},
     "output_type": "execute_result"
    }
   ],
   "source": [
    "drone_df.shape"
   ]
  },
  {
   "cell_type": "code",
   "execution_count": 115,
   "metadata": {
    "scrolled": true
   },
   "outputs": [
    {
     "data": {
      "text/html": [
       "<div>\n",
       "<style>\n",
       "    .dataframe thead tr:only-child th {\n",
       "        text-align: right;\n",
       "    }\n",
       "\n",
       "    .dataframe thead th {\n",
       "        text-align: left;\n",
       "    }\n",
       "\n",
       "    .dataframe tbody tr th {\n",
       "        vertical-align: top;\n",
       "    }\n",
       "</style>\n",
       "<table border=\"1\" class=\"dataframe\">\n",
       "  <thead>\n",
       "    <tr style=\"text-align: right;\">\n",
       "      <th></th>\n",
       "      <th>_id</th>\n",
       "      <th>children</th>\n",
       "      <th>civilians</th>\n",
       "      <th>country</th>\n",
       "      <th>date</th>\n",
       "      <th>deaths</th>\n",
       "      <th>injuries</th>\n",
       "      <th>lat</th>\n",
       "      <th>location</th>\n",
       "      <th>lon</th>\n",
       "    </tr>\n",
       "  </thead>\n",
       "  <tbody>\n",
       "    <tr>\n",
       "      <th>0</th>\n",
       "      <td>55c79e711cbee48856a30886</td>\n",
       "      <td>0.0</td>\n",
       "      <td>0.0</td>\n",
       "      <td>Yemen</td>\n",
       "      <td>2002-11-03T00:00:00.000Z</td>\n",
       "      <td>66</td>\n",
       "      <td></td>\n",
       "      <td>15.47467</td>\n",
       "      <td>Marib Province</td>\n",
       "      <td>45.322755</td>\n",
       "    </tr>\n",
       "    <tr>\n",
       "      <th>1</th>\n",
       "      <td>55c79e711cbee48856a30887</td>\n",
       "      <td>2.0</td>\n",
       "      <td>2.0</td>\n",
       "      <td>Pakistan</td>\n",
       "      <td>2004-06-17T00:00:00.000Z</td>\n",
       "      <td>86</td>\n",
       "      <td>1</td>\n",
       "      <td>32.30512565</td>\n",
       "      <td>South Waziristan</td>\n",
       "      <td>69.57624435</td>\n",
       "    </tr>\n",
       "    <tr>\n",
       "      <th>2</th>\n",
       "      <td>55c79e711cbee48856a30888</td>\n",
       "      <td>0.0</td>\n",
       "      <td>0.0</td>\n",
       "      <td>Pakistan</td>\n",
       "      <td>2005-05-08T00:00:00.000Z</td>\n",
       "      <td>22</td>\n",
       "      <td></td>\n",
       "      <td>32.98677989</td>\n",
       "      <td>North Waziristan</td>\n",
       "      <td>70.26082993</td>\n",
       "    </tr>\n",
       "    <tr>\n",
       "      <th>3</th>\n",
       "      <td>55c79e721cbee48856a30889</td>\n",
       "      <td>0.0</td>\n",
       "      <td>0.0</td>\n",
       "      <td>Pakistan</td>\n",
       "      <td>2005-11-05T00:00:00.000Z</td>\n",
       "      <td>88</td>\n",
       "      <td>1</td>\n",
       "      <td>32.99988191</td>\n",
       "      <td>North Waziristan</td>\n",
       "      <td>70.34082413</td>\n",
       "    </tr>\n",
       "    <tr>\n",
       "      <th>4</th>\n",
       "      <td>55c79e721cbee48856a3088a</td>\n",
       "      <td>2.0</td>\n",
       "      <td>2.0</td>\n",
       "      <td>Pakistan</td>\n",
       "      <td>2005-12-01T00:00:00.000Z</td>\n",
       "      <td>55</td>\n",
       "      <td></td>\n",
       "      <td>33.00866349</td>\n",
       "      <td>North Waziristan</td>\n",
       "      <td>70.04196167</td>\n",
       "    </tr>\n",
       "  </tbody>\n",
       "</table>\n",
       "</div>"
      ],
      "text/plain": [
       "                        _id  children  civilians   country  \\\n",
       "0  55c79e711cbee48856a30886       0.0        0.0     Yemen   \n",
       "1  55c79e711cbee48856a30887       2.0        2.0  Pakistan   \n",
       "2  55c79e711cbee48856a30888       0.0        0.0  Pakistan   \n",
       "3  55c79e721cbee48856a30889       0.0        0.0  Pakistan   \n",
       "4  55c79e721cbee48856a3088a       2.0        2.0  Pakistan   \n",
       "\n",
       "                       date deaths injuries          lat          location  \\\n",
       "0  2002-11-03T00:00:00.000Z     66              15.47467    Marib Province   \n",
       "1  2004-06-17T00:00:00.000Z     86        1  32.30512565  South Waziristan   \n",
       "2  2005-05-08T00:00:00.000Z     22           32.98677989  North Waziristan   \n",
       "3  2005-11-05T00:00:00.000Z     88        1  32.99988191  North Waziristan   \n",
       "4  2005-12-01T00:00:00.000Z     55           33.00866349  North Waziristan   \n",
       "\n",
       "           lon  \n",
       "0    45.322755  \n",
       "1  69.57624435  \n",
       "2  70.26082993  \n",
       "3  70.34082413  \n",
       "4  70.04196167  "
      ]
     },
     "execution_count": 115,
     "metadata": {},
     "output_type": "execute_result"
    }
   ],
   "source": [
    "drone_df.head(5)"
   ]
  },
  {
   "cell_type": "code",
   "execution_count": 125,
   "metadata": {},
   "outputs": [
    {
     "data": {
      "text/plain": [
       "array([u'45.322755', u'69.57624435', u'70.26082993', u'70.34082413',\n",
       "       u'70.04196167', u'70.05912781', u'71.4969635', u'71.49215698',\n",
       "       u'69.55581665', u'70.28743744', u'70.07286072', u'70.48690796',\n",
       "       u'70.24108887', u'69.40544128', u'69.45762634', u'69.84283447',\n",
       "       u'69.43222046', u'69.32510376', u'69.60062027', u'69.33147601',\n",
       "       u'69.52079773', u'70.06084442', u'69.72644806', u'69.53933716',\n",
       "       u'70.0756073', u'69.28459167', u'70.35301208', u'70.434707',\n",
       "       u'70.1653862', u'69.85279083', u'69.60783005', u'70.26906967',\n",
       "       u'69.50054169', u'70.06736755', u'69.86875534', u'70.06530762',\n",
       "       u'70.04608154', u'70.15396057', u'70.08590698', u'69.49728012',\n",
       "       u'69.88197327', u'70.26224613', u'69.86515045', u'70.29361725',\n",
       "       u'70.00282288', u'70.28022766', u'70.31747818', u'70.91108322',\n",
       "       u'69.78326797', u'70.01981735', u'69.34604645', u'70.2725029',\n",
       "       u'69.88162994', u'69.56783295', u'69.61521149', u'69.99217987',\n",
       "       u'69.85038757', u'69.62104797', u'70.30838013', u'70.02033234',\n",
       "       u'70.32606125', u'70.14118195', u'69.83167648', u'69.52835083',\n",
       "       u'69.73880768', u'70.21207809', u'69.75631714', u'70.01415253',\n",
       "       u'69.7338295', u'70.16143799', u'70.29584885', u'69.70207214',\n",
       "       u'69.64164734', u'69.7262764', u'70.1902771', u'69.61641312',\n",
       "       u'69.94308472', u'69.6818161', u'70.05329132', u'70.25271893',\n",
       "       u'69.82566833', u'70.84911346', u'69.29111481', u'69.65615273',\n",
       "       u'70.31078339', u'69.77253914', u'69.27858353', u'70.29808044',\n",
       "       u'70.07663727', u'70.41687012', u'70.38837433', u'70.54870605',\n",
       "       u'69.71237183', u'69.68730927', u'69.65503693', u'69.70104218',\n",
       "       u'69.29729462', u'70.030518', u'69.27841187', u'69.63993073',\n",
       "       u'69.62619781', u'70.26323318', u'69.85313416', u'70.30460358',\n",
       "       u'70.29275894', u'70.33344269', u'70.0786972', u'70.28657913',\n",
       "       u'70.19491196', u'70.37618637', u'70.40039063', u'70.75332642',\n",
       "       u'70.81134796', u'70.76568604', u'70.37910461', u'70.23971558',\n",
       "       u'69.75099564', u'69.60422516', u'69.62928772', u'69.84815598',\n",
       "       u'70.31164169', u'69.44955826', u'70.27233124', u'69.28321838',\n",
       "       u'70.31232834', u'47.009442', u'69.76086617', u'70.35129547',\n",
       "       u'70.34794807', u'45.38028', u'69.58800316', u'69.51152802',\n",
       "       u'69.49659348', u'69.59014893', u'69.56388474', u'69.65881348',\n",
       "       u'45.381295', u'46.106282', u'69.55530167', u'45.307832',\n",
       "       u'70.27610779', u'70.25928497', u'42.545328', u'69.60456848',\n",
       "       u'69.66018677', u'70.262883', u'46.768075', u'45.698439',\n",
       "       u'45.538211', u'42.326611', u'47.44163168', u'47.453653',\n",
       "       u'69.596401', u'70.218333', u'45.118861', u'69.976425',\n",
       "       u'45.210714', u'45.86811', u'42.874722', u'69.864395', u'45.432054',\n",
       "       u'45.310246', u'69.97999191', u'69.9816857', u'45.361154',\n",
       "       u'45.321382', u'44.95211601', u'49.149095', u'70.43678284',\n",
       "       u'49.133333', u'46.768718', u'69.572983', u'46.769534',\n",
       "       u'44.94736314', u'45.719776', u'46.768976', u'70.2482734',\n",
       "       u'70.06702423', u'44.840248', u'46.76992', u'44.022514',\n",
       "       u'44.21044', u'70.168712', u'70.19083', u'45.317648', u'45.41',\n",
       "       u'43.448889', u'45.574143', u'70.02398', u'44.400374', u'46.767517',\n",
       "       u'70.08634', u'46.786228', u'69.873047', u'45.109863', u'46.768633',\n",
       "       u'46.332241', u'48.568056', u'46.59975', u'45.317652', u'49.008491',\n",
       "       u'48.483724', u'44.777508', u'43.1867', u'42.77408', u'70.0673',\n",
       "       u'48.847', u'70.9798979', u'70.08612137', u'48.45545951',\n",
       "       u'44.84022741', u'48.49708739', u'71.04002456', u'48.63614342',\n",
       "       u'44.86872157', u'48.4719651', u'48.61546852', u'43.05437987',\n",
       "       u'45.3186518', u'46.90706935', u'46.77107878', u'45.27945549',\n",
       "       u'43.55072601', u'45.80343227', u'46.91922791', u'46.29878849',\n",
       "       u'45.51011473', u'69.91707654', u'70.02775522', u'46.15628273',\n",
       "       u'69.96249171', u'69.757682', u'69.749205', u'69.769976',\n",
       "       u'69.731456', u'45.375369', u'49.545398', u'43.873565',\n",
       "       u'46.855642', u'69.780743', u'44.796697', u'69.581148',\n",
       "       u'69.449321', u'69.45239', u'69.448686', u'69.763804', u'69.744568',\n",
       "       u'69.762962', u'70.667356', u'69.681201', u'47.588714',\n",
       "       u'44.864604', u'69.405773', u'44.837306', u'44.857733',\n",
       "       u'44.855855', u'69.771795', u'47.442831', u'69.72912', u'69.586956',\n",
       "       u'69.755025', u'69.769954', u'69.677233', u'42.456479',\n",
       "       u'70.031364', u'69.623301', u'69.829475', u'69.564403',\n",
       "       u'47.340372', u'69.548837', u'47.646369', u'42.973463',\n",
       "       u'44.816408', u'47.735589', u'45.727767', u'46.983333',\n",
       "       u'42.301185', u'69.539043', u'49.152317', u'49.131188',\n",
       "       u'46.825365', u'49.128787', u'69.570101', u'46.707753',\n",
       "       u'69.677244', u'69.683522', u'69.623297', u'49.149844',\n",
       "       u'49.145514', u'47.27814', u'49.161134', u'42.28261', u'46.908802',\n",
       "       u'70.030368', u'49.169265', u'45.503675', u'49.373044',\n",
       "       u'49.142459', u'69.746042', u'49.114324', u'44.817237',\n",
       "       u'45.372615', u'45.178012', u'44.266686', u'45.642549',\n",
       "       u'69.741237', u'', u'45.054424', u'42.779399', u'42.54606',\n",
       "       u'45.150474', u'65.923181', u'44.930992', u'44.922427', u'45.040226'], dtype=object)"
      ]
     },
     "execution_count": 125,
     "metadata": {},
     "output_type": "execute_result"
    }
   ],
   "source": []
  },
  {
   "cell_type": "markdown",
   "metadata": {},
   "source": [
    "### Change the number columns to numerical"
   ]
  },
  {
   "cell_type": "code",
   "execution_count": 122,
   "metadata": {},
   "outputs": [
    {
     "ename": "ValueError",
     "evalue": "Unable to parse string \"?0\" at position 313",
     "output_type": "error",
     "traceback": [
      "\u001b[1;31m---------------------------------------------------------------------------\u001b[0m",
      "\u001b[1;31mValueError\u001b[0m                                Traceback (most recent call last)",
      "\u001b[1;32m<ipython-input-122-e5ff829cc78c>\u001b[0m in \u001b[0;36m<module>\u001b[1;34m()\u001b[0m\n\u001b[0;32m      2\u001b[0m \u001b[1;33m\u001b[0m\u001b[0m\n\u001b[0;32m      3\u001b[0m \u001b[1;32mfor\u001b[0m \u001b[0mi\u001b[0m \u001b[1;32min\u001b[0m \u001b[0mcolumnstonumeric\u001b[0m\u001b[1;33m:\u001b[0m\u001b[1;33m\u001b[0m\u001b[0m\n\u001b[1;32m----> 4\u001b[1;33m     \u001b[0mpd\u001b[0m\u001b[1;33m.\u001b[0m\u001b[0mto_numeric\u001b[0m\u001b[1;33m(\u001b[0m\u001b[0mdrone_df\u001b[0m\u001b[1;33m[\u001b[0m\u001b[0mi\u001b[0m\u001b[1;33m]\u001b[0m\u001b[1;33m)\u001b[0m\u001b[1;33m\u001b[0m\u001b[0m\n\u001b[0m",
      "\u001b[1;32mC:\\ProgramData\\Anaconda2\\lib\\site-packages\\pandas\\core\\tools\\numeric.pyc\u001b[0m in \u001b[0;36mto_numeric\u001b[1;34m(arg, errors, downcast)\u001b[0m\n\u001b[0;32m    124\u001b[0m             \u001b[0mcoerce_numeric\u001b[0m \u001b[1;33m=\u001b[0m \u001b[0mFalse\u001b[0m \u001b[1;32mif\u001b[0m \u001b[0merrors\u001b[0m \u001b[1;32min\u001b[0m \u001b[1;33m(\u001b[0m\u001b[1;34m'ignore'\u001b[0m\u001b[1;33m,\u001b[0m \u001b[1;34m'raise'\u001b[0m\u001b[1;33m)\u001b[0m \u001b[1;32melse\u001b[0m \u001b[0mTrue\u001b[0m\u001b[1;33m\u001b[0m\u001b[0m\n\u001b[0;32m    125\u001b[0m             values = lib.maybe_convert_numeric(values, set(),\n\u001b[1;32m--> 126\u001b[1;33m                                                coerce_numeric=coerce_numeric)\n\u001b[0m\u001b[0;32m    127\u001b[0m \u001b[1;33m\u001b[0m\u001b[0m\n\u001b[0;32m    128\u001b[0m     \u001b[1;32mexcept\u001b[0m \u001b[0mException\u001b[0m\u001b[1;33m:\u001b[0m\u001b[1;33m\u001b[0m\u001b[0m\n",
      "\u001b[1;32mpandas\\_libs\\src\\inference.pyx\u001b[0m in \u001b[0;36mpandas._libs.lib.maybe_convert_numeric (pandas\\_libs\\lib.c:56638)\u001b[1;34m()\u001b[0m\n",
      "\u001b[1;31mValueError\u001b[0m: Unable to parse string \"?0\" at position 313"
     ]
    }
   ],
   "source": [
    "columnstonumeric = ['children','deaths','civilians','lat','lon']\n",
    "\n",
    "for i in columnstonumeric:\n",
    "    pd.to_numeric(drone_df[i])"
   ]
  },
  {
   "cell_type": "markdown",
   "metadata": {},
   "source": [
    "### Get the Info and Describe"
   ]
  },
  {
   "cell_type": "code",
   "execution_count": 120,
   "metadata": {},
   "outputs": [
    {
     "name": "stdout",
     "output_type": "stream",
     "text": [
      "<class 'pandas.core.frame.DataFrame'>\n",
      "RangeIndex: 647 entries, 0 to 646\n",
      "Data columns (total 10 columns):\n",
      "_id          647 non-null object\n",
      "children     647 non-null float64\n",
      "civilians    647 non-null float64\n",
      "country      647 non-null object\n",
      "date         647 non-null object\n",
      "deaths       647 non-null object\n",
      "injuries     647 non-null object\n",
      "lat          647 non-null object\n",
      "location     647 non-null object\n",
      "lon          647 non-null object\n",
      "dtypes: float64(2), object(8)\n",
      "memory usage: 50.6+ KB\n"
     ]
    }
   ],
   "source": [
    "drone_df.info()"
   ]
  },
  {
   "cell_type": "markdown",
   "metadata": {},
   "source": [
    "### Change the objects into numbers"
   ]
  },
  {
   "cell_type": "code",
   "execution_count": 103,
   "metadata": {},
   "outputs": [
    {
     "data": {
      "text/html": [
       "<div>\n",
       "<style>\n",
       "    .dataframe thead tr:only-child th {\n",
       "        text-align: right;\n",
       "    }\n",
       "\n",
       "    .dataframe thead th {\n",
       "        text-align: left;\n",
       "    }\n",
       "\n",
       "    .dataframe tbody tr th {\n",
       "        vertical-align: top;\n",
       "    }\n",
       "</style>\n",
       "<table border=\"1\" class=\"dataframe\">\n",
       "  <thead>\n",
       "    <tr style=\"text-align: right;\">\n",
       "      <th></th>\n",
       "      <th>_id</th>\n",
       "      <th>children</th>\n",
       "      <th>civilians</th>\n",
       "      <th>country</th>\n",
       "      <th>date</th>\n",
       "      <th>deaths</th>\n",
       "      <th>deaths_max</th>\n",
       "      <th>deaths_min</th>\n",
       "      <th>injuries</th>\n",
       "      <th>lat</th>\n",
       "      <th>location</th>\n",
       "      <th>lon</th>\n",
       "    </tr>\n",
       "  </thead>\n",
       "  <tbody>\n",
       "    <tr>\n",
       "      <th>count</th>\n",
       "      <td>647</td>\n",
       "      <td>647</td>\n",
       "      <td>647.0</td>\n",
       "      <td>647</td>\n",
       "      <td>647</td>\n",
       "      <td>647</td>\n",
       "      <td>647</td>\n",
       "      <td>647</td>\n",
       "      <td>647</td>\n",
       "      <td>647</td>\n",
       "      <td>647</td>\n",
       "      <td>647</td>\n",
       "    </tr>\n",
       "    <tr>\n",
       "      <th>unique</th>\n",
       "      <td>647</td>\n",
       "      <td>20</td>\n",
       "      <td>16.0</td>\n",
       "      <td>4</td>\n",
       "      <td>523</td>\n",
       "      <td>149</td>\n",
       "      <td>42</td>\n",
       "      <td>37</td>\n",
       "      <td>51</td>\n",
       "      <td>311</td>\n",
       "      <td>39</td>\n",
       "      <td>315</td>\n",
       "    </tr>\n",
       "    <tr>\n",
       "      <th>top</th>\n",
       "      <td>55c79e721cbee48856a30952</td>\n",
       "      <td></td>\n",
       "      <td>0.0</td>\n",
       "      <td>Pakistan</td>\n",
       "      <td>2011-10-14T00:00:00.000Z</td>\n",
       "      <td>4</td>\n",
       "      <td>4</td>\n",
       "      <td>4</td>\n",
       "      <td></td>\n",
       "      <td></td>\n",
       "      <td>North Waziristan</td>\n",
       "      <td></td>\n",
       "    </tr>\n",
       "    <tr>\n",
       "      <th>freq</th>\n",
       "      <td>1</td>\n",
       "      <td>542</td>\n",
       "      <td>581.0</td>\n",
       "      <td>430</td>\n",
       "      <td>5</td>\n",
       "      <td>48</td>\n",
       "      <td>97</td>\n",
       "      <td>130</td>\n",
       "      <td>269</td>\n",
       "      <td>29</td>\n",
       "      <td>303</td>\n",
       "      <td>29</td>\n",
       "    </tr>\n",
       "  </tbody>\n",
       "</table>\n",
       "</div>"
      ],
      "text/plain": [
       "                             _id children  civilians   country  \\\n",
       "count                        647      647      647.0       647   \n",
       "unique                       647       20       16.0         4   \n",
       "top     55c79e721cbee48856a30952                 0.0  Pakistan   \n",
       "freq                           1      542      581.0       430   \n",
       "\n",
       "                            date deaths deaths_max deaths_min injuries  lat  \\\n",
       "count                        647    647        647        647      647  647   \n",
       "unique                       523    149         42         37       51  311   \n",
       "top     2011-10-14T00:00:00.000Z      4          4          4                 \n",
       "freq                           5     48         97        130      269   29   \n",
       "\n",
       "                location  lon  \n",
       "count                647  647  \n",
       "unique                39  315  \n",
       "top     North Waziristan       \n",
       "freq                 303   29  "
      ]
     },
     "execution_count": 103,
     "metadata": {},
     "output_type": "execute_result"
    }
   ],
   "source": [
    "drone_df.describe()"
   ]
  },
  {
   "cell_type": "markdown",
   "metadata": {},
   "source": [
    "### Check the datatype"
   ]
  },
  {
   "cell_type": "code",
   "execution_count": 104,
   "metadata": {},
   "outputs": [
    {
     "data": {
      "text/plain": [
       "_id           object\n",
       "children      object\n",
       "civilians     object\n",
       "country       object\n",
       "date          object\n",
       "deaths        object\n",
       "deaths_max    object\n",
       "deaths_min    object\n",
       "injuries      object\n",
       "lat           object\n",
       "location      object\n",
       "lon           object\n",
       "dtype: object"
      ]
     },
     "execution_count": 104,
     "metadata": {},
     "output_type": "execute_result"
    }
   ],
   "source": [
    "drone_df.dtypes"
   ]
  },
  {
   "cell_type": "code",
   "execution_count": null,
   "metadata": {
    "collapsed": true
   },
   "outputs": [],
   "source": []
  },
  {
   "cell_type": "markdown",
   "metadata": {},
   "source": [
    "### Convert any improper strings that was supposed to be numerical into numbers"
   ]
  },
  {
   "cell_type": "code",
   "execution_count": null,
   "metadata": {
    "collapsed": true
   },
   "outputs": [],
   "source": []
  },
  {
   "cell_type": "code",
   "execution_count": null,
   "metadata": {
    "collapsed": true
   },
   "outputs": [],
   "source": []
  },
  {
   "cell_type": "code",
   "execution_count": null,
   "metadata": {
    "collapsed": true
   },
   "outputs": [],
   "source": []
  },
  {
   "cell_type": "markdown",
   "metadata": {},
   "source": [
    "### Standardize Data"
   ]
  },
  {
   "cell_type": "code",
   "execution_count": null,
   "metadata": {
    "collapsed": true
   },
   "outputs": [],
   "source": [
    "#James"
   ]
  },
  {
   "cell_type": "code",
   "execution_count": 7,
   "metadata": {},
   "outputs": [
    {
     "data": {
      "text/html": [
       "<div>\n",
       "<style>\n",
       "    .dataframe thead tr:only-child th {\n",
       "        text-align: right;\n",
       "    }\n",
       "\n",
       "    .dataframe thead th {\n",
       "        text-align: left;\n",
       "    }\n",
       "\n",
       "    .dataframe tbody tr th {\n",
       "        vertical-align: top;\n",
       "    }\n",
       "</style>\n",
       "<table border=\"1\" class=\"dataframe\">\n",
       "  <thead>\n",
       "    <tr style=\"text-align: right;\">\n",
       "      <th></th>\n",
       "      <th>number</th>\n",
       "    </tr>\n",
       "  </thead>\n",
       "  <tbody>\n",
       "    <tr>\n",
       "      <th>count</th>\n",
       "      <td>647.000000</td>\n",
       "    </tr>\n",
       "    <tr>\n",
       "      <th>mean</th>\n",
       "      <td>324.000000</td>\n",
       "    </tr>\n",
       "    <tr>\n",
       "      <th>std</th>\n",
       "      <td>186.917094</td>\n",
       "    </tr>\n",
       "    <tr>\n",
       "      <th>min</th>\n",
       "      <td>1.000000</td>\n",
       "    </tr>\n",
       "    <tr>\n",
       "      <th>25%</th>\n",
       "      <td>162.500000</td>\n",
       "    </tr>\n",
       "    <tr>\n",
       "      <th>50%</th>\n",
       "      <td>324.000000</td>\n",
       "    </tr>\n",
       "    <tr>\n",
       "      <th>75%</th>\n",
       "      <td>485.500000</td>\n",
       "    </tr>\n",
       "    <tr>\n",
       "      <th>max</th>\n",
       "      <td>647.000000</td>\n",
       "    </tr>\n",
       "  </tbody>\n",
       "</table>\n",
       "</div>"
      ],
      "text/plain": [
       "           number\n",
       "count  647.000000\n",
       "mean   324.000000\n",
       "std    186.917094\n",
       "min      1.000000\n",
       "25%    162.500000\n",
       "50%    324.000000\n",
       "75%    485.500000\n",
       "max    647.000000"
      ]
     },
     "execution_count": 7,
     "metadata": {},
     "output_type": "execute_result"
    }
   ],
   "source": [
    "drone_df.describe"
   ]
  },
  {
   "cell_type": "markdown",
   "metadata": {},
   "source": [
    "### Replace missing numbers with NAN"
   ]
  },
  {
   "cell_type": "code",
   "execution_count": null,
   "metadata": {
    "collapsed": true
   },
   "outputs": [],
   "source": [
    "#James"
   ]
  },
  {
   "cell_type": "code",
   "execution_count": null,
   "metadata": {
    "collapsed": true
   },
   "outputs": [],
   "source": []
  },
  {
   "cell_type": "markdown",
   "metadata": {},
   "source": []
  },
  {
   "cell_type": "markdown",
   "metadata": {},
   "source": [
    "### Visualize some plots for the Data"
   ]
  },
  {
   "cell_type": "code",
   "execution_count": null,
   "metadata": {
    "collapsed": true
   },
   "outputs": [],
   "source": []
  },
  {
   "cell_type": "code",
   "execution_count": null,
   "metadata": {
    "collapsed": true
   },
   "outputs": [],
   "source": []
  },
  {
   "cell_type": "code",
   "execution_count": null,
   "metadata": {
    "collapsed": true
   },
   "outputs": [],
   "source": []
  },
  {
   "cell_type": "markdown",
   "metadata": {
    "collapsed": true
   },
   "source": [
    "### Turn the Date into a proper date"
   ]
  },
  {
   "cell_type": "code",
   "execution_count": null,
   "metadata": {
    "collapsed": true
   },
   "outputs": [],
   "source": []
  },
  {
   "cell_type": "markdown",
   "metadata": {},
   "source": [
    "### Get the covariance and corelation of the data"
   ]
  },
  {
   "cell_type": "code",
   "execution_count": null,
   "metadata": {
    "collapsed": true
   },
   "outputs": [],
   "source": []
  }
 ],
 "metadata": {
  "kernelspec": {
   "display_name": "Python 2",
   "language": "python",
   "name": "python2"
  },
  "language_info": {
   "codemirror_mode": {
    "name": "ipython",
    "version": 2
   },
   "file_extension": ".py",
   "mimetype": "text/x-python",
   "name": "python",
   "nbconvert_exporter": "python",
   "pygments_lexer": "ipython2",
   "version": "2.7.13"
  }
 },
 "nbformat": 4,
 "nbformat_minor": 2
}
