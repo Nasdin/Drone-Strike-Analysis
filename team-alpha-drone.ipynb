{
 "cells": [
  {
   "cell_type": "markdown",
   "metadata": {},
   "source": [
    "# Team Alpha Drone\n",
    "\n",
    "---\n",
    "\n",
    "Since the API from `api.dronestre.am` provides data on drone strikes in near real time, this might be useful to hold the President accountable if he/she promises to reduce drone strikes. \n",
    "\n",
    "**Your mission:** \n",
    "- Explore the drone strike data and describe it\n",
    "- Do some accomanying research to augment your analysis\n",
    "- Report back any good summary statistics\n",
    "\n",
    "**Also, we would like to know:**\n",
    " - Is this a good source of data?\n",
    " - Why / why not?\n",
    "\n",
    "\n",
    "One of the needs for data science in organizations is to bring measure to vague problems. What can be measured in this dataset with certainty? Drive your presentation from what can be measured, reported. \n",
    "\n",
    "Also, if possible, suggest what can be done with this data in terms of actionable outcomes and to what extent.\n",
    "     \n",
    "*Keep politics out of the presentation and group work. Let's keep the work and discussion to the data: what is measurable and insights we can draw.  This data isn't meant to prove or disprove anything. It's intended to be an interesting dataset to look at, not a platform for political discourse.*"
   ]
  },
  {
   "cell_type": "code",
   "execution_count": 10,
   "metadata": {
    "collapsed": true
   },
   "outputs": [],
   "source": [
    "# First we need to fetch some data using Python requests from API\n",
    "# Read more about Python requests:\n",
    "# http://docs.python-requests.org/en/master/user/quickstart/\n",
    "\n",
    "import requests\n",
    "import pandas as pd\n",
    "import numpy as np\n",
    "import re\n",
    "\n",
    "response = requests.get(\"http://api.dronestre.am/data\")\n",
    "json_data = response.json()\n",
    "drone_df = pd.DataFrame(json_data['strike'])"
   ]
  },
  {
   "cell_type": "markdown",
   "metadata": {
    "collapsed": true
   },
   "source": [
    "### Get the Head"
   ]
  },
  {
   "cell_type": "code",
   "execution_count": 11,
   "metadata": {},
   "outputs": [
    {
     "data": {
      "text/html": [
       "<div>\n",
       "<style>\n",
       "    .dataframe thead tr:only-child th {\n",
       "        text-align: right;\n",
       "    }\n",
       "\n",
       "    .dataframe thead th {\n",
       "        text-align: left;\n",
       "    }\n",
       "\n",
       "    .dataframe tbody tr th {\n",
       "        vertical-align: top;\n",
       "    }\n",
       "</style>\n",
       "<table border=\"1\" class=\"dataframe\">\n",
       "  <thead>\n",
       "    <tr style=\"text-align: right;\">\n",
       "      <th></th>\n",
       "      <th>_id</th>\n",
       "      <th>articles</th>\n",
       "      <th>bij_link</th>\n",
       "      <th>bij_summary_short</th>\n",
       "      <th>bureau_id</th>\n",
       "      <th>children</th>\n",
       "      <th>civilians</th>\n",
       "      <th>country</th>\n",
       "      <th>date</th>\n",
       "      <th>deaths</th>\n",
       "      <th>...</th>\n",
       "      <th>injuries</th>\n",
       "      <th>lat</th>\n",
       "      <th>location</th>\n",
       "      <th>lon</th>\n",
       "      <th>names</th>\n",
       "      <th>narrative</th>\n",
       "      <th>number</th>\n",
       "      <th>target</th>\n",
       "      <th>town</th>\n",
       "      <th>tweet_id</th>\n",
       "    </tr>\n",
       "  </thead>\n",
       "  <tbody>\n",
       "    <tr>\n",
       "      <th>0</th>\n",
       "      <td>55c79e711cbee48856a30886</td>\n",
       "      <td>[]</td>\n",
       "      <td>http://www.thebureauinvestigates.com/2012/03/2...</td>\n",
       "      <td>In the first known US targeted assassination u...</td>\n",
       "      <td>YEM001</td>\n",
       "      <td></td>\n",
       "      <td>0</td>\n",
       "      <td>Yemen</td>\n",
       "      <td>2002-11-03T00:00:00.000Z</td>\n",
       "      <td>6</td>\n",
       "      <td>...</td>\n",
       "      <td></td>\n",
       "      <td>15.47467</td>\n",
       "      <td>Marib Province</td>\n",
       "      <td>45.322755</td>\n",
       "      <td>[Qa'id Salim Sinan al-Harithi, Abu Ahmad al-Hi...</td>\n",
       "      <td>In the first known US targeted assassination u...</td>\n",
       "      <td>1</td>\n",
       "      <td></td>\n",
       "      <td></td>\n",
       "      <td>278544689483890688</td>\n",
       "    </tr>\n",
       "    <tr>\n",
       "      <th>1</th>\n",
       "      <td>55c79e711cbee48856a30887</td>\n",
       "      <td>[]</td>\n",
       "      <td>http://www.thebureauinvestigates.com/2011/08/1...</td>\n",
       "      <td>First known drone strike in Pakistan kills at ...</td>\n",
       "      <td>B1</td>\n",
       "      <td>2</td>\n",
       "      <td>2</td>\n",
       "      <td>Pakistan</td>\n",
       "      <td>2004-06-17T00:00:00.000Z</td>\n",
       "      <td>6-8</td>\n",
       "      <td>...</td>\n",
       "      <td>1</td>\n",
       "      <td>32.30512565</td>\n",
       "      <td>South Waziristan</td>\n",
       "      <td>69.57624435</td>\n",
       "      <td>[Nek Mohammad, Fakhar Zaman, Azmat Khan, Marez...</td>\n",
       "      <td>The first known fatal US drone strike inside P...</td>\n",
       "      <td>2</td>\n",
       "      <td>Nek Mohammed</td>\n",
       "      <td>Wana</td>\n",
       "      <td>278544750867533824</td>\n",
       "    </tr>\n",
       "    <tr>\n",
       "      <th>2</th>\n",
       "      <td>55c79e711cbee48856a30888</td>\n",
       "      <td>[]</td>\n",
       "      <td>http://www.thebureauinvestigates.com/2011/08/1...</td>\n",
       "      <td>Two killed, including Haitham al-Yemeni an al ...</td>\n",
       "      <td>B2</td>\n",
       "      <td></td>\n",
       "      <td></td>\n",
       "      <td>Pakistan</td>\n",
       "      <td>2005-05-08T00:00:00.000Z</td>\n",
       "      <td>2</td>\n",
       "      <td>...</td>\n",
       "      <td></td>\n",
       "      <td>32.98677989</td>\n",
       "      <td>North Waziristan</td>\n",
       "      <td>70.26082993</td>\n",
       "      <td>[Haitham al-Yemeni, Samiullah Khan]</td>\n",
       "      <td>2 people killed in a Predator strike which rep...</td>\n",
       "      <td>3</td>\n",
       "      <td>Haitham al-Yemeni</td>\n",
       "      <td>Toorikhel</td>\n",
       "      <td>278544812255367168</td>\n",
       "    </tr>\n",
       "    <tr>\n",
       "      <th>3</th>\n",
       "      <td>55c79e721cbee48856a30889</td>\n",
       "      <td>[]</td>\n",
       "      <td>http://www.thebureauinvestigates.com/2011/08/1...</td>\n",
       "      <td>Failed strike against Abu Hamza Rabia (\"al Qae...</td>\n",
       "      <td>B3</td>\n",
       "      <td>3</td>\n",
       "      <td>3-8</td>\n",
       "      <td>Pakistan</td>\n",
       "      <td>2005-11-05T00:00:00.000Z</td>\n",
       "      <td>8</td>\n",
       "      <td>...</td>\n",
       "      <td>1</td>\n",
       "      <td>32.99988191</td>\n",
       "      <td>North Waziristan</td>\n",
       "      <td>70.34082413</td>\n",
       "      <td>[]</td>\n",
       "      <td>A failed strike destroyed Abu Hamza Rabia's ho...</td>\n",
       "      <td>4</td>\n",
       "      <td>Abu Hamza Rabia</td>\n",
       "      <td>Mosaki</td>\n",
       "      <td>278544854483628032</td>\n",
       "    </tr>\n",
       "    <tr>\n",
       "      <th>4</th>\n",
       "      <td>55c79e721cbee48856a3088a</td>\n",
       "      <td>[]</td>\n",
       "      <td>http://www.thebureauinvestigates.com/2011/08/1...</td>\n",
       "      <td>Syrian Abu Hamza Rabia, the senior al Qaeda op...</td>\n",
       "      <td>B4</td>\n",
       "      <td>2</td>\n",
       "      <td>2</td>\n",
       "      <td>Pakistan</td>\n",
       "      <td>2005-12-01T00:00:00.000Z</td>\n",
       "      <td>5</td>\n",
       "      <td>...</td>\n",
       "      <td></td>\n",
       "      <td>33.00866349</td>\n",
       "      <td>North Waziristan</td>\n",
       "      <td>70.04196167</td>\n",
       "      <td>[Abu Hamza Rabia, Suleiman al-Moghrabi, Amer A...</td>\n",
       "      <td>5 people were killed, including 2 children, wh...</td>\n",
       "      <td>5</td>\n",
       "      <td>Abu Hamza Rabia</td>\n",
       "      <td>Haisori</td>\n",
       "      <td>278544895789133825</td>\n",
       "    </tr>\n",
       "  </tbody>\n",
       "</table>\n",
       "<p>5 rows × 22 columns</p>\n",
       "</div>"
      ],
      "text/plain": [
       "                        _id articles  \\\n",
       "0  55c79e711cbee48856a30886       []   \n",
       "1  55c79e711cbee48856a30887       []   \n",
       "2  55c79e711cbee48856a30888       []   \n",
       "3  55c79e721cbee48856a30889       []   \n",
       "4  55c79e721cbee48856a3088a       []   \n",
       "\n",
       "                                            bij_link  \\\n",
       "0  http://www.thebureauinvestigates.com/2012/03/2...   \n",
       "1  http://www.thebureauinvestigates.com/2011/08/1...   \n",
       "2  http://www.thebureauinvestigates.com/2011/08/1...   \n",
       "3  http://www.thebureauinvestigates.com/2011/08/1...   \n",
       "4  http://www.thebureauinvestigates.com/2011/08/1...   \n",
       "\n",
       "                                   bij_summary_short bureau_id children  \\\n",
       "0  In the first known US targeted assassination u...    YEM001            \n",
       "1  First known drone strike in Pakistan kills at ...        B1        2   \n",
       "2  Two killed, including Haitham al-Yemeni an al ...        B2            \n",
       "3  Failed strike against Abu Hamza Rabia (\"al Qae...        B3        3   \n",
       "4  Syrian Abu Hamza Rabia, the senior al Qaeda op...        B4        2   \n",
       "\n",
       "  civilians   country                      date deaths         ...          \\\n",
       "0         0     Yemen  2002-11-03T00:00:00.000Z      6         ...           \n",
       "1         2  Pakistan  2004-06-17T00:00:00.000Z    6-8         ...           \n",
       "2            Pakistan  2005-05-08T00:00:00.000Z      2         ...           \n",
       "3       3-8  Pakistan  2005-11-05T00:00:00.000Z      8         ...           \n",
       "4         2  Pakistan  2005-12-01T00:00:00.000Z      5         ...           \n",
       "\n",
       "  injuries          lat          location          lon  \\\n",
       "0              15.47467    Marib Province    45.322755   \n",
       "1        1  32.30512565  South Waziristan  69.57624435   \n",
       "2           32.98677989  North Waziristan  70.26082993   \n",
       "3        1  32.99988191  North Waziristan  70.34082413   \n",
       "4           33.00866349  North Waziristan  70.04196167   \n",
       "\n",
       "                                               names  \\\n",
       "0  [Qa'id Salim Sinan al-Harithi, Abu Ahmad al-Hi...   \n",
       "1  [Nek Mohammad, Fakhar Zaman, Azmat Khan, Marez...   \n",
       "2                [Haitham al-Yemeni, Samiullah Khan]   \n",
       "3                                                 []   \n",
       "4  [Abu Hamza Rabia, Suleiman al-Moghrabi, Amer A...   \n",
       "\n",
       "                                           narrative number  \\\n",
       "0  In the first known US targeted assassination u...      1   \n",
       "1  The first known fatal US drone strike inside P...      2   \n",
       "2  2 people killed in a Predator strike which rep...      3   \n",
       "3  A failed strike destroyed Abu Hamza Rabia's ho...      4   \n",
       "4  5 people were killed, including 2 children, wh...      5   \n",
       "\n",
       "              target       town            tweet_id  \n",
       "0                                278544689483890688  \n",
       "1       Nek Mohammed       Wana  278544750867533824  \n",
       "2  Haitham al-Yemeni  Toorikhel  278544812255367168  \n",
       "3    Abu Hamza Rabia     Mosaki  278544854483628032  \n",
       "4    Abu Hamza Rabia    Haisori  278544895789133825  \n",
       "\n",
       "[5 rows x 22 columns]"
      ]
     },
     "execution_count": 11,
     "metadata": {},
     "output_type": "execute_result"
    }
   ],
   "source": [
    "#Nas\n",
    "drone_df.head()"
   ]
  },
  {
   "cell_type": "markdown",
   "metadata": {},
   "source": [
    "### Drop unnecessary columns"
   ]
  },
  {
   "cell_type": "code",
   "execution_count": 12,
   "metadata": {},
   "outputs": [],
   "source": [
    "drone_df.drop( ['bij_link','articles','bij_summary_short','bureau_id','names','target','town','tweet_id','number','narrative' ],axis=1, inplace = True, errors='ignore')"
   ]
  },
  {
   "cell_type": "code",
   "execution_count": 13,
   "metadata": {},
   "outputs": [
    {
     "data": {
      "text/plain": [
       "Index([u'_id', u'children', u'civilians', u'country', u'date', u'deaths',\n",
       "       u'deaths_max', u'deaths_min', u'injuries', u'lat', u'location', u'lon'],\n",
       "      dtype='object')"
      ]
     },
     "execution_count": 13,
     "metadata": {},
     "output_type": "execute_result"
    }
   ],
   "source": [
    "drone_df.columns"
   ]
  },
  {
   "cell_type": "code",
   "execution_count": 14,
   "metadata": {},
   "outputs": [
    {
     "data": {
      "text/html": [
       "<div>\n",
       "<style>\n",
       "    .dataframe thead tr:only-child th {\n",
       "        text-align: right;\n",
       "    }\n",
       "\n",
       "    .dataframe thead th {\n",
       "        text-align: left;\n",
       "    }\n",
       "\n",
       "    .dataframe tbody tr th {\n",
       "        vertical-align: top;\n",
       "    }\n",
       "</style>\n",
       "<table border=\"1\" class=\"dataframe\">\n",
       "  <thead>\n",
       "    <tr style=\"text-align: right;\">\n",
       "      <th></th>\n",
       "      <th>_id</th>\n",
       "      <th>children</th>\n",
       "      <th>civilians</th>\n",
       "      <th>country</th>\n",
       "      <th>date</th>\n",
       "      <th>deaths</th>\n",
       "      <th>deaths_max</th>\n",
       "      <th>deaths_min</th>\n",
       "      <th>injuries</th>\n",
       "      <th>lat</th>\n",
       "      <th>location</th>\n",
       "      <th>lon</th>\n",
       "    </tr>\n",
       "  </thead>\n",
       "  <tbody>\n",
       "    <tr>\n",
       "      <th>0</th>\n",
       "      <td>55c79e711cbee48856a30886</td>\n",
       "      <td></td>\n",
       "      <td>0</td>\n",
       "      <td>Yemen</td>\n",
       "      <td>2002-11-03T00:00:00.000Z</td>\n",
       "      <td>6</td>\n",
       "      <td>6</td>\n",
       "      <td>6</td>\n",
       "      <td></td>\n",
       "      <td>15.47467</td>\n",
       "      <td>Marib Province</td>\n",
       "      <td>45.322755</td>\n",
       "    </tr>\n",
       "    <tr>\n",
       "      <th>1</th>\n",
       "      <td>55c79e711cbee48856a30887</td>\n",
       "      <td>2</td>\n",
       "      <td>2</td>\n",
       "      <td>Pakistan</td>\n",
       "      <td>2004-06-17T00:00:00.000Z</td>\n",
       "      <td>6-8</td>\n",
       "      <td>8</td>\n",
       "      <td>6</td>\n",
       "      <td>1</td>\n",
       "      <td>32.30512565</td>\n",
       "      <td>South Waziristan</td>\n",
       "      <td>69.57624435</td>\n",
       "    </tr>\n",
       "    <tr>\n",
       "      <th>2</th>\n",
       "      <td>55c79e711cbee48856a30888</td>\n",
       "      <td></td>\n",
       "      <td></td>\n",
       "      <td>Pakistan</td>\n",
       "      <td>2005-05-08T00:00:00.000Z</td>\n",
       "      <td>2</td>\n",
       "      <td>2</td>\n",
       "      <td>2</td>\n",
       "      <td></td>\n",
       "      <td>32.98677989</td>\n",
       "      <td>North Waziristan</td>\n",
       "      <td>70.26082993</td>\n",
       "    </tr>\n",
       "    <tr>\n",
       "      <th>3</th>\n",
       "      <td>55c79e721cbee48856a30889</td>\n",
       "      <td>3</td>\n",
       "      <td>3-8</td>\n",
       "      <td>Pakistan</td>\n",
       "      <td>2005-11-05T00:00:00.000Z</td>\n",
       "      <td>8</td>\n",
       "      <td>8</td>\n",
       "      <td>8</td>\n",
       "      <td>1</td>\n",
       "      <td>32.99988191</td>\n",
       "      <td>North Waziristan</td>\n",
       "      <td>70.34082413</td>\n",
       "    </tr>\n",
       "    <tr>\n",
       "      <th>4</th>\n",
       "      <td>55c79e721cbee48856a3088a</td>\n",
       "      <td>2</td>\n",
       "      <td>2</td>\n",
       "      <td>Pakistan</td>\n",
       "      <td>2005-12-01T00:00:00.000Z</td>\n",
       "      <td>5</td>\n",
       "      <td>5</td>\n",
       "      <td>5</td>\n",
       "      <td></td>\n",
       "      <td>33.00866349</td>\n",
       "      <td>North Waziristan</td>\n",
       "      <td>70.04196167</td>\n",
       "    </tr>\n",
       "  </tbody>\n",
       "</table>\n",
       "</div>"
      ],
      "text/plain": [
       "                        _id children civilians   country  \\\n",
       "0  55c79e711cbee48856a30886                  0     Yemen   \n",
       "1  55c79e711cbee48856a30887        2         2  Pakistan   \n",
       "2  55c79e711cbee48856a30888                     Pakistan   \n",
       "3  55c79e721cbee48856a30889        3       3-8  Pakistan   \n",
       "4  55c79e721cbee48856a3088a        2         2  Pakistan   \n",
       "\n",
       "                       date deaths deaths_max deaths_min injuries  \\\n",
       "0  2002-11-03T00:00:00.000Z      6          6          6            \n",
       "1  2004-06-17T00:00:00.000Z    6-8          8          6        1   \n",
       "2  2005-05-08T00:00:00.000Z      2          2          2            \n",
       "3  2005-11-05T00:00:00.000Z      8          8          8        1   \n",
       "4  2005-12-01T00:00:00.000Z      5          5          5            \n",
       "\n",
       "           lat          location          lon  \n",
       "0     15.47467    Marib Province    45.322755  \n",
       "1  32.30512565  South Waziristan  69.57624435  \n",
       "2  32.98677989  North Waziristan  70.26082993  \n",
       "3  32.99988191  North Waziristan  70.34082413  \n",
       "4  33.00866349  North Waziristan  70.04196167  "
      ]
     },
     "execution_count": 14,
     "metadata": {},
     "output_type": "execute_result"
    }
   ],
   "source": [
    "drone_df.head()"
   ]
  },
  {
   "cell_type": "markdown",
   "metadata": {},
   "source": [
    "### Identify these death columns for issues"
   ]
  },
  {
   "cell_type": "code",
   "execution_count": 15,
   "metadata": {},
   "outputs": [
    {
     "data": {
      "text/plain": [
       "array([u'6', u'8', u'2', u'5', u'22', u'83', u'4', u'34', u'10', u'0',\n",
       "       u'15', u'13', u'20', u'1', u'12', u'25', u'7', u'23', u'3', u'21',\n",
       "       u'9', u'11', u'16', u'35', u'31', u'14', u'40', u'17', u'18', u'27',\n",
       "       u'32', u'42', u'26', u'', u'50', u'?', u'24', u'30', u'38', u'200',\n",
       "       u'28', u'39'], dtype=object)"
      ]
     },
     "execution_count": 15,
     "metadata": {},
     "output_type": "execute_result"
    }
   ],
   "source": [
    "drone_df['deaths_max'].unique()"
   ]
  },
  {
   "cell_type": "code",
   "execution_count": 21,
   "metadata": {},
   "outputs": [
    {
     "data": {
      "text/plain": [
       "array([u'6', u'2', u'8', u'5', u'13', u'81', u'3', u'20', u'0', u'12',\n",
       "       u'1', u'4', u'17', u'10', u'21', u'7', u'15', u'11', u'26', u'30',\n",
       "       u'14', u'9', u'25', u'67', u'16', u'35', u'23', u'32', u'18', u'',\n",
       "       u'?', u'24', u'29', u'38', u'150', u'28', u'39'], dtype=object)"
      ]
     },
     "execution_count": 21,
     "metadata": {},
     "output_type": "execute_result"
    }
   ],
   "source": [
    "drone_df['deaths_min'].unique()"
   ]
  },
  {
   "cell_type": "code",
   "execution_count": 22,
   "metadata": {},
   "outputs": [
    {
     "data": {
      "text/plain": [
       "array([u'6', u'6-8', u'2', u'8', u'5', u'13-22', u'81-83', u'3-4',\n",
       "       u'20-34', u'5-10', u'Unknown', u'12-15', u'8-13', u'12-20', u'1',\n",
       "       u'6-12', u'13-25', u'8-12', u'0', u'4-5', u'4-10', u'5-7', u'5-12',\n",
       "       u'17-23', u'10-15', u'4-7', u'4-8', u'3', u'21', u'4-9', u'5-9',\n",
       "       u'7-11', u'15-20', u'4-25', u'4-12', u'11-16', u'11-13', u'4-6',\n",
       "       u'2-3', u'6-7', u'2-4', u'3-5', u'7-15', u'26-35', u'30-31',\n",
       "       u'7-12', u'14-25', u'2-5', u'7-8', u'12-14', u'13', u'4', u'0-8',\n",
       "       u'6-10', u'9-25', u'8-9', u'25-40', u'67-83', u'0-5', u'13-17',\n",
       "       u'16-18', u'8-10', u'35-40', u'5-6', u'2-12', u'17-21', u'5-8',\n",
       "       u'10-12', u'20-27', u'3-6', u'3-10', u'12-16', u'14-20', u'3-7',\n",
       "       u'15-18', u'20', u'9-15', u'23-23', u'9', u'7', u'5-13', u'10-11',\n",
       "       u'7-9', u'10', u'13-14', u'5-15', u'13-15', u'16-17', u'7-10',\n",
       "       u'10-14', u'14', u'6-9', u'11-12', u'16', u'9-10', u'8-14',\n",
       "       u'11-14', u'0-4', u'11-15', u'32', u'18-22', u'26-42', u'25-26',\n",
       "       u'18-23', u'14-21', u'12-25', u'6-50', u'13-16', u'20-25', u'0-6',\n",
       "       u'3-8', u'15-17', u'11', u'1-2', u'16-22', u'1-4', u'8-15',\n",
       "       u'23-34', u'24', u'29-30', u'38', u'12-17', u'14-42', u'1-18',\n",
       "       u'10-18', u'3-13', u'17-24', u'5-25', u'13-18', u'12', u'6-15',\n",
       "       u'16-26', u'1-5', u'4-11', u'6-11', u'8-18', u'1-3', u'2-6',\n",
       "       u'10-17', u'1-6', u'0-2', u'2-9', u'13-21', u'24-31', u'15',\n",
       "       u'2-30', u'150', u'28', u'39'], dtype=object)"
      ]
     },
     "execution_count": 22,
     "metadata": {},
     "output_type": "execute_result"
    }
   ],
   "source": [
    "drone_df['deaths'].unique()"
   ]
  },
  {
   "cell_type": "markdown",
   "metadata": {},
   "source": [
    "### Inspect Children's column"
   ]
  },
  {
   "cell_type": "code",
   "execution_count": null,
   "metadata": {},
   "outputs": [],
   "source": [
    "print drone_df['children'].unique\n",
    "print drone_df['civilians'].unique()"
   ]
  },
  {
   "cell_type": "markdown",
   "metadata": {},
   "source": [
    "### Get rid of the blanks and changing it to 0"
   ]
  },
  {
   "cell_type": "markdown",
   "metadata": {},
   "source": [
    "### make a loop to clean"
   ]
  },
  {
   "cell_type": "code",
   "execution_count": 47,
   "metadata": {},
   "outputs": [],
   "source": [
    "cleancolumns = ['children','civilians','lat','lon','deaths_min','deaths_max']\n",
    "\n",
    "for column in cleancolumns:\n",
    "    newnumber =[]\n",
    "    blankmask = drone_df[column] == \"\"\n",
    "    drone_df.loc[blankmask,column] =0\n",
    "    for string in drone_df[column]:\n",
    "        try:\n",
    "            newnumber.append(float(string))\n",
    "        except ValueError:\n",
    "            if string ==\"Possibly\" or string == \"Yes\" or \"according\" in string  or string ==\"Yes \" or \"mar\" in string or \"yes\" in string or \"Yes\" in string:\n",
    "                newnumber.append(1)\n",
    "            elif \"At least\" in string:\n",
    "                newnumber.append(string[len(\"At least \")+1:])\n",
    "\n",
    "            else:\n",
    "                newnumber.append(0)\n",
    "    drone_df[column]=newnumber\n",
    "        \n"
   ]
  },
  {
   "cell_type": "markdown",
   "metadata": {},
   "source": [
    "### 'Deaths' has a lot of ambiguous values, we shall take deaths to be the mid point between max and min. Then drop both of them."
   ]
  },
  {
   "cell_type": "code",
   "execution_count": 50,
   "metadata": {},
   "outputs": [],
   "source": [
    "death = ( pd.to_numeric(drone_df['deaths_max'],errors='ignore') + pd.to_numeric(drone_df['deaths_min'],errors='ignore') ) \n",
    "death /= 2\n"
   ]
  },
  {
   "cell_type": "code",
   "execution_count": 51,
   "metadata": {},
   "outputs": [],
   "source": [
    "drone_df['deaths'] = death\n",
    "drone_df.drop( ['deaths_max','deaths_min' ],axis=1, inplace = True, errors='ignore')"
   ]
  },
  {
   "cell_type": "markdown",
   "metadata": {},
   "source": [
    "### Check the labels"
   ]
  },
  {
   "cell_type": "code",
   "execution_count": 52,
   "metadata": {},
   "outputs": [
    {
     "data": {
      "text/html": [
       "<div>\n",
       "<style>\n",
       "    .dataframe thead tr:only-child th {\n",
       "        text-align: right;\n",
       "    }\n",
       "\n",
       "    .dataframe thead th {\n",
       "        text-align: left;\n",
       "    }\n",
       "\n",
       "    .dataframe tbody tr th {\n",
       "        vertical-align: top;\n",
       "    }\n",
       "</style>\n",
       "<table border=\"1\" class=\"dataframe\">\n",
       "  <thead>\n",
       "    <tr style=\"text-align: right;\">\n",
       "      <th></th>\n",
       "      <th>_id</th>\n",
       "      <th>children</th>\n",
       "      <th>civilians</th>\n",
       "      <th>country</th>\n",
       "      <th>date</th>\n",
       "      <th>deaths</th>\n",
       "      <th>injuries</th>\n",
       "      <th>lat</th>\n",
       "      <th>location</th>\n",
       "      <th>lon</th>\n",
       "    </tr>\n",
       "  </thead>\n",
       "  <tbody>\n",
       "    <tr>\n",
       "      <th>0</th>\n",
       "      <td>55c79e711cbee48856a30886</td>\n",
       "      <td>0</td>\n",
       "      <td>0</td>\n",
       "      <td>Yemen</td>\n",
       "      <td>2002-11-03T00:00:00.000Z</td>\n",
       "      <td>6.0</td>\n",
       "      <td></td>\n",
       "      <td>15.474670</td>\n",
       "      <td>Marib Province</td>\n",
       "      <td>45.322755</td>\n",
       "    </tr>\n",
       "    <tr>\n",
       "      <th>1</th>\n",
       "      <td>55c79e711cbee48856a30887</td>\n",
       "      <td>2</td>\n",
       "      <td>2</td>\n",
       "      <td>Pakistan</td>\n",
       "      <td>2004-06-17T00:00:00.000Z</td>\n",
       "      <td>7.0</td>\n",
       "      <td>1</td>\n",
       "      <td>32.305126</td>\n",
       "      <td>South Waziristan</td>\n",
       "      <td>69.576244</td>\n",
       "    </tr>\n",
       "    <tr>\n",
       "      <th>2</th>\n",
       "      <td>55c79e711cbee48856a30888</td>\n",
       "      <td>0</td>\n",
       "      <td>0</td>\n",
       "      <td>Pakistan</td>\n",
       "      <td>2005-05-08T00:00:00.000Z</td>\n",
       "      <td>2.0</td>\n",
       "      <td></td>\n",
       "      <td>32.986780</td>\n",
       "      <td>North Waziristan</td>\n",
       "      <td>70.260830</td>\n",
       "    </tr>\n",
       "    <tr>\n",
       "      <th>3</th>\n",
       "      <td>55c79e721cbee48856a30889</td>\n",
       "      <td>3</td>\n",
       "      <td>0</td>\n",
       "      <td>Pakistan</td>\n",
       "      <td>2005-11-05T00:00:00.000Z</td>\n",
       "      <td>8.0</td>\n",
       "      <td>1</td>\n",
       "      <td>32.999882</td>\n",
       "      <td>North Waziristan</td>\n",
       "      <td>70.340824</td>\n",
       "    </tr>\n",
       "    <tr>\n",
       "      <th>4</th>\n",
       "      <td>55c79e721cbee48856a3088a</td>\n",
       "      <td>2</td>\n",
       "      <td>2</td>\n",
       "      <td>Pakistan</td>\n",
       "      <td>2005-12-01T00:00:00.000Z</td>\n",
       "      <td>5.0</td>\n",
       "      <td></td>\n",
       "      <td>33.008663</td>\n",
       "      <td>North Waziristan</td>\n",
       "      <td>70.041962</td>\n",
       "    </tr>\n",
       "  </tbody>\n",
       "</table>\n",
       "</div>"
      ],
      "text/plain": [
       "                        _id children civilians   country  \\\n",
       "0  55c79e711cbee48856a30886        0         0     Yemen   \n",
       "1  55c79e711cbee48856a30887        2         2  Pakistan   \n",
       "2  55c79e711cbee48856a30888        0         0  Pakistan   \n",
       "3  55c79e721cbee48856a30889        3         0  Pakistan   \n",
       "4  55c79e721cbee48856a3088a        2         2  Pakistan   \n",
       "\n",
       "                       date  deaths injuries        lat          location  \\\n",
       "0  2002-11-03T00:00:00.000Z     6.0           15.474670    Marib Province   \n",
       "1  2004-06-17T00:00:00.000Z     7.0        1  32.305126  South Waziristan   \n",
       "2  2005-05-08T00:00:00.000Z     2.0           32.986780  North Waziristan   \n",
       "3  2005-11-05T00:00:00.000Z     8.0        1  32.999882  North Waziristan   \n",
       "4  2005-12-01T00:00:00.000Z     5.0           33.008663  North Waziristan   \n",
       "\n",
       "         lon  \n",
       "0  45.322755  \n",
       "1  69.576244  \n",
       "2  70.260830  \n",
       "3  70.340824  \n",
       "4  70.041962  "
      ]
     },
     "execution_count": 52,
     "metadata": {},
     "output_type": "execute_result"
    }
   ],
   "source": [
    "drone_df.head()"
   ]
  },
  {
   "cell_type": "markdown",
   "metadata": {},
   "source": [
    "### Get the Shape"
   ]
  },
  {
   "cell_type": "code",
   "execution_count": 54,
   "metadata": {},
   "outputs": [
    {
     "data": {
      "text/plain": [
       "(647, 10)"
      ]
     },
     "execution_count": 54,
     "metadata": {},
     "output_type": "execute_result"
    }
   ],
   "source": [
    "drone_df.shape"
   ]
  },
  {
   "cell_type": "code",
   "execution_count": 55,
   "metadata": {
    "scrolled": true
   },
   "outputs": [
    {
     "data": {
      "text/html": [
       "<div>\n",
       "<style>\n",
       "    .dataframe thead tr:only-child th {\n",
       "        text-align: right;\n",
       "    }\n",
       "\n",
       "    .dataframe thead th {\n",
       "        text-align: left;\n",
       "    }\n",
       "\n",
       "    .dataframe tbody tr th {\n",
       "        vertical-align: top;\n",
       "    }\n",
       "</style>\n",
       "<table border=\"1\" class=\"dataframe\">\n",
       "  <thead>\n",
       "    <tr style=\"text-align: right;\">\n",
       "      <th></th>\n",
       "      <th>_id</th>\n",
       "      <th>children</th>\n",
       "      <th>civilians</th>\n",
       "      <th>country</th>\n",
       "      <th>date</th>\n",
       "      <th>deaths</th>\n",
       "      <th>injuries</th>\n",
       "      <th>lat</th>\n",
       "      <th>location</th>\n",
       "      <th>lon</th>\n",
       "    </tr>\n",
       "  </thead>\n",
       "  <tbody>\n",
       "    <tr>\n",
       "      <th>0</th>\n",
       "      <td>55c79e711cbee48856a30886</td>\n",
       "      <td>0</td>\n",
       "      <td>0</td>\n",
       "      <td>Yemen</td>\n",
       "      <td>2002-11-03T00:00:00.000Z</td>\n",
       "      <td>6.0</td>\n",
       "      <td></td>\n",
       "      <td>15.474670</td>\n",
       "      <td>Marib Province</td>\n",
       "      <td>45.322755</td>\n",
       "    </tr>\n",
       "    <tr>\n",
       "      <th>1</th>\n",
       "      <td>55c79e711cbee48856a30887</td>\n",
       "      <td>2</td>\n",
       "      <td>2</td>\n",
       "      <td>Pakistan</td>\n",
       "      <td>2004-06-17T00:00:00.000Z</td>\n",
       "      <td>7.0</td>\n",
       "      <td>1</td>\n",
       "      <td>32.305126</td>\n",
       "      <td>South Waziristan</td>\n",
       "      <td>69.576244</td>\n",
       "    </tr>\n",
       "    <tr>\n",
       "      <th>2</th>\n",
       "      <td>55c79e711cbee48856a30888</td>\n",
       "      <td>0</td>\n",
       "      <td>0</td>\n",
       "      <td>Pakistan</td>\n",
       "      <td>2005-05-08T00:00:00.000Z</td>\n",
       "      <td>2.0</td>\n",
       "      <td></td>\n",
       "      <td>32.986780</td>\n",
       "      <td>North Waziristan</td>\n",
       "      <td>70.260830</td>\n",
       "    </tr>\n",
       "    <tr>\n",
       "      <th>3</th>\n",
       "      <td>55c79e721cbee48856a30889</td>\n",
       "      <td>3</td>\n",
       "      <td>0</td>\n",
       "      <td>Pakistan</td>\n",
       "      <td>2005-11-05T00:00:00.000Z</td>\n",
       "      <td>8.0</td>\n",
       "      <td>1</td>\n",
       "      <td>32.999882</td>\n",
       "      <td>North Waziristan</td>\n",
       "      <td>70.340824</td>\n",
       "    </tr>\n",
       "    <tr>\n",
       "      <th>4</th>\n",
       "      <td>55c79e721cbee48856a3088a</td>\n",
       "      <td>2</td>\n",
       "      <td>2</td>\n",
       "      <td>Pakistan</td>\n",
       "      <td>2005-12-01T00:00:00.000Z</td>\n",
       "      <td>5.0</td>\n",
       "      <td></td>\n",
       "      <td>33.008663</td>\n",
       "      <td>North Waziristan</td>\n",
       "      <td>70.041962</td>\n",
       "    </tr>\n",
       "  </tbody>\n",
       "</table>\n",
       "</div>"
      ],
      "text/plain": [
       "                        _id children civilians   country  \\\n",
       "0  55c79e711cbee48856a30886        0         0     Yemen   \n",
       "1  55c79e711cbee48856a30887        2         2  Pakistan   \n",
       "2  55c79e711cbee48856a30888        0         0  Pakistan   \n",
       "3  55c79e721cbee48856a30889        3         0  Pakistan   \n",
       "4  55c79e721cbee48856a3088a        2         2  Pakistan   \n",
       "\n",
       "                       date  deaths injuries        lat          location  \\\n",
       "0  2002-11-03T00:00:00.000Z     6.0           15.474670    Marib Province   \n",
       "1  2004-06-17T00:00:00.000Z     7.0        1  32.305126  South Waziristan   \n",
       "2  2005-05-08T00:00:00.000Z     2.0           32.986780  North Waziristan   \n",
       "3  2005-11-05T00:00:00.000Z     8.0        1  32.999882  North Waziristan   \n",
       "4  2005-12-01T00:00:00.000Z     5.0           33.008663  North Waziristan   \n",
       "\n",
       "         lon  \n",
       "0  45.322755  \n",
       "1  69.576244  \n",
       "2  70.260830  \n",
       "3  70.340824  \n",
       "4  70.041962  "
      ]
     },
     "execution_count": 55,
     "metadata": {},
     "output_type": "execute_result"
    }
   ],
   "source": [
    "drone_df.head(5)"
   ]
  },
  {
   "cell_type": "code",
   "execution_count": null,
   "metadata": {},
   "outputs": [],
   "source": []
  },
  {
   "cell_type": "markdown",
   "metadata": {},
   "source": [
    "### Change the number columns to numerical"
   ]
  },
  {
   "cell_type": "code",
   "execution_count": 58,
   "metadata": {},
   "outputs": [],
   "source": [
    "columnstonumeric = ['children','deaths','civilians','lat','lon']\n",
    "\n",
    "for i in columnstonumeric:\n",
    "    pd.to_numeric(drone_df[i])"
   ]
  },
  {
   "cell_type": "markdown",
   "metadata": {},
   "source": [
    "### Get the Info and Describe"
   ]
  },
  {
   "cell_type": "code",
   "execution_count": 62,
   "metadata": {},
   "outputs": [
    {
     "name": "stdout",
     "output_type": "stream",
     "text": [
      "<class 'pandas.core.frame.DataFrame'>\n",
      "RangeIndex: 647 entries, 0 to 646\n",
      "Data columns (total 10 columns):\n",
      "_id          647 non-null object\n",
      "children     647 non-null object\n",
      "civilians    647 non-null object\n",
      "country      647 non-null object\n",
      "date         647 non-null object\n",
      "deaths       647 non-null float64\n",
      "injuries     647 non-null object\n",
      "lat          647 non-null float64\n",
      "location     647 non-null object\n",
      "lon          647 non-null float64\n",
      "dtypes: float64(3), object(7)\n",
      "memory usage: 50.6+ KB\n"
     ]
    }
   ],
   "source": [
    "drone_df.info()"
   ]
  },
  {
   "cell_type": "markdown",
   "metadata": {},
   "source": [
    "### Check the datatype"
   ]
  },
  {
   "cell_type": "code",
   "execution_count": 63,
   "metadata": {},
   "outputs": [
    {
     "data": {
      "text/plain": [
       "_id           object\n",
       "children      object\n",
       "civilians     object\n",
       "country       object\n",
       "date          object\n",
       "deaths       float64\n",
       "injuries      object\n",
       "lat          float64\n",
       "location      object\n",
       "lon          float64\n",
       "dtype: object"
      ]
     },
     "execution_count": 63,
     "metadata": {},
     "output_type": "execute_result"
    }
   ],
   "source": [
    "drone_df.dtypes"
   ]
  },
  {
   "cell_type": "code",
   "execution_count": null,
   "metadata": {
    "collapsed": true
   },
   "outputs": [],
   "source": [
    "#James"
   ]
  },
  {
   "cell_type": "code",
   "execution_count": null,
   "metadata": {},
   "outputs": [],
   "source": [
    "drone_df.describe"
   ]
  },
  {
   "cell_type": "markdown",
   "metadata": {},
   "source": [
    "### Fix the Dates via truncation"
   ]
  },
  {
   "cell_type": "code",
   "execution_count": 92,
   "metadata": {},
   "outputs": [
    {
     "data": {
      "text/plain": [
       "0      2002-11-03T00:00:00.000Z\n",
       "1      2004-06-17T00:00:00.000Z\n",
       "2      2005-05-08T00:00:00.000Z\n",
       "3      2005-11-05T00:00:00.000Z\n",
       "4      2005-12-01T00:00:00.000Z\n",
       "5      2006-01-06T00:00:00.000Z\n",
       "6      2006-01-13T00:00:00.000Z\n",
       "7      2006-10-30T00:00:00.000Z\n",
       "8      2007-01-16T00:00:00.000Z\n",
       "9      2007-04-27T00:00:00.000Z\n",
       "10     2007-06-19T00:00:00.000Z\n",
       "11     2007-11-02T00:00:00.000Z\n",
       "12     2007-12-03T00:00:00.000Z\n",
       "13     2008-01-29T00:00:00.000Z\n",
       "14     2008-02-28T00:00:00.000Z\n",
       "15     2008-03-16T00:00:00.000Z\n",
       "16     2008-05-14T00:00:00.000Z\n",
       "17     2008-06-14T00:00:00.000Z\n",
       "18     2008-07-28T00:00:00.000Z\n",
       "19     2008-08-12T00:00:00.000Z\n",
       "20     2008-08-20T00:00:00.000Z\n",
       "21     2008-08-27T00:00:00.000Z\n",
       "22     2008-08-30T00:00:00.000Z\n",
       "23     2008-08-30T00:00:00.000Z\n",
       "24     2008-09-02T00:00:00.000Z\n",
       "25     2008-09-04T00:00:00.000Z\n",
       "26     2008-09-05T00:00:00.000Z\n",
       "27     2008-09-08T00:00:00.000Z\n",
       "28     2008-09-12T00:00:00.000Z\n",
       "29     2008-09-17T00:00:00.000Z\n",
       "                 ...           \n",
       "617    2016-03-05T00:00:00.000Z\n",
       "618    2016-03-26T00:00:00.000Z\n",
       "619    2016-03-31T00:00:00.000Z\n",
       "620    2016-04-12T00:00:00.000Z\n",
       "621    2016-04-26T00:00:00.000Z\n",
       "622    2016-04-28T00:00:00.000Z\n",
       "623    2016-05-12T00:00:00.000Z\n",
       "624    2016-05-19T00:00:00.000Z\n",
       "625    2016-05-21T00:00:00.000Z\n",
       "626    2016-05-27T00:00:00.000Z\n",
       "627    2016-06-12T00:00:00.000Z\n",
       "628    2016-06-27T00:00:00.000Z\n",
       "629    2016-07-01T00:00:00.000Z\n",
       "630    2016-07-04T00:00:00.000Z\n",
       "631    2016-07-10T00:00:00.000Z\n",
       "632    2016-07-16T00:00:00.000Z\n",
       "633    2016-08-04T00:00:00.000Z\n",
       "634    2016-08-24T00:00:00.000Z\n",
       "635    2016-08-30T00:00:00.000Z\n",
       "636    2016-09-04T00:00:00.000Z\n",
       "637    2016-09-13T00:00:00.000Z\n",
       "638    2016-12-22T00:00:00.000Z\n",
       "639    2016-12-29T00:00:00.000Z\n",
       "640    2017-01-08T00:00:00.000Z\n",
       "641    2017-01-21T00:00:00.000Z\n",
       "642    2017-01-29T00:00:00.000Z\n",
       "643    2017-03-02T00:00:00.000Z\n",
       "644    2017-03-02T00:00:00.000Z\n",
       "645    2017-03-02T00:00:00.000Z\n",
       "646    2017-03-06T00:00:00.000Z\n",
       "Name: date, Length: 647, dtype: object"
      ]
     },
     "execution_count": 92,
     "metadata": {},
     "output_type": "execute_result"
    }
   ],
   "source": [
    "drone_df['date'].map(lambda x: x[:])"
   ]
  },
  {
   "cell_type": "markdown",
   "metadata": {},
   "source": [
    "# "
   ]
  }
 ],
 "metadata": {
  "kernelspec": {
   "display_name": "Python 2",
   "language": "python",
   "name": "python2"
  },
  "language_info": {
   "codemirror_mode": {
    "name": "ipython",
    "version": 2
   },
   "file_extension": ".py",
   "mimetype": "text/x-python",
   "name": "python",
   "nbconvert_exporter": "python",
   "pygments_lexer": "ipython2",
   "version": "2.7.13"
  }
 },
 "nbformat": 4,
 "nbformat_minor": 2
}
