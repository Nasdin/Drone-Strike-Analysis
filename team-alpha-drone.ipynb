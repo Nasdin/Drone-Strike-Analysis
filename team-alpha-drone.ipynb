{
 "cells": [
  {
   "cell_type": "markdown",
   "metadata": {},
   "source": [
    "# Team Alpha Drone\n",
    "\n",
    "---\n",
    "\n",
    "Since the API from `api.dronestre.am` provides data on drone strikes in near real time, this might be useful to hold the President accountable if he/she promises to reduce drone strikes. \n",
    "\n",
    "**Your mission:** \n",
    "- Explore the drone strike data and describe it\n",
    "- Do some accomanying research to augment your analysis\n",
    "- Report back any good summary statistics\n",
    "\n",
    "**Also, we would like to know:**\n",
    " - Is this a good source of data?\n",
    " - Why / why not?\n",
    "\n",
    "\n",
    "One of the needs for data science in organizations is to bring measure to vague problems. What can be measured in this dataset with certainty? Drive your presentation from what can be measured, reported. \n",
    "\n",
    "Also, if possible, suggest what can be done with this data in terms of actionable outcomes and to what extent.\n",
    "     \n",
    "*Keep politics out of the presentation and group work. Let's keep the work and discussion to the data: what is measurable and insights we can draw.  This data isn't meant to prove or disprove anything. It's intended to be an interesting dataset to look at, not a platform for political discourse.*"
   ]
  },
  {
   "cell_type": "code",
   "execution_count": 2,
   "metadata": {
    "collapsed": true
   },
   "outputs": [],
   "source": [
    "# First we need to fetch some data using Python requests from API\n",
    "# Read more about Python requests:\n",
    "# http://docs.python-requests.org/en/master/user/quickstart/\n",
    "\n",
    "import requests\n",
    "import pandas as pd\n",
    "import numpy as np\n",
    "\n",
    "response = requests.get(\"http://api.dronestre.am/data\")\n",
    "json_data = response.json()\n",
    "drone_df = pd.DataFrame(json_data['strike'])"
   ]
  },
  {
   "cell_type": "markdown",
   "metadata": {
    "collapsed": true
   },
   "source": [
    "### Get the Head"
   ]
  },
  {
   "cell_type": "code",
   "execution_count": null,
   "metadata": {},
   "outputs": [],
   "source": []
  },
  {
   "cell_type": "code",
   "execution_count": null,
   "metadata": {},
   "outputs": [],
   "source": []
  },
  {
   "cell_type": "code",
   "execution_count": 3,
   "metadata": {
    "collapsed": true
   },
   "outputs": [],
   "source": [
    "#Nas\n"
   ]
  },
  {
   "cell_type": "markdown",
   "metadata": {},
   "source": [
    "### Get the Shape"
   ]
  },
  {
   "cell_type": "code",
   "execution_count": 4,
   "metadata": {},
   "outputs": [
    {
     "data": {
      "text/html": [
       "<div>\n",
       "<style>\n",
       "    .dataframe thead tr:only-child th {\n",
       "        text-align: right;\n",
       "    }\n",
       "\n",
       "    .dataframe thead th {\n",
       "        text-align: left;\n",
       "    }\n",
       "\n",
       "    .dataframe tbody tr th {\n",
       "        vertical-align: top;\n",
       "    }\n",
       "</style>\n",
       "<table border=\"1\" class=\"dataframe\">\n",
       "  <thead>\n",
       "    <tr style=\"text-align: right;\">\n",
       "      <th></th>\n",
       "      <th>_id</th>\n",
       "      <th>articles</th>\n",
       "      <th>bij_link</th>\n",
       "      <th>bij_summary_short</th>\n",
       "      <th>bureau_id</th>\n",
       "      <th>children</th>\n",
       "      <th>civilians</th>\n",
       "      <th>country</th>\n",
       "      <th>date</th>\n",
       "      <th>deaths</th>\n",
       "      <th>...</th>\n",
       "      <th>injuries</th>\n",
       "      <th>lat</th>\n",
       "      <th>location</th>\n",
       "      <th>lon</th>\n",
       "      <th>names</th>\n",
       "      <th>narrative</th>\n",
       "      <th>number</th>\n",
       "      <th>target</th>\n",
       "      <th>town</th>\n",
       "      <th>tweet_id</th>\n",
       "    </tr>\n",
       "  </thead>\n",
       "  <tbody>\n",
       "    <tr>\n",
       "      <th>0</th>\n",
       "      <td>55c79e711cbee48856a30886</td>\n",
       "      <td>[]</td>\n",
       "      <td>http://www.thebureauinvestigates.com/2012/03/2...</td>\n",
       "      <td>In the first known US targeted assassination u...</td>\n",
       "      <td>YEM001</td>\n",
       "      <td></td>\n",
       "      <td>0</td>\n",
       "      <td>Yemen</td>\n",
       "      <td>2002-11-03T00:00:00.000Z</td>\n",
       "      <td>6</td>\n",
       "      <td>...</td>\n",
       "      <td></td>\n",
       "      <td>15.47467</td>\n",
       "      <td>Marib Province</td>\n",
       "      <td>45.322755</td>\n",
       "      <td>[Qa'id Salim Sinan al-Harithi, Abu Ahmad al-Hi...</td>\n",
       "      <td>In the first known US targeted assassination u...</td>\n",
       "      <td>1</td>\n",
       "      <td></td>\n",
       "      <td></td>\n",
       "      <td>278544689483890688</td>\n",
       "    </tr>\n",
       "    <tr>\n",
       "      <th>1</th>\n",
       "      <td>55c79e711cbee48856a30887</td>\n",
       "      <td>[]</td>\n",
       "      <td>http://www.thebureauinvestigates.com/2011/08/1...</td>\n",
       "      <td>First known drone strike in Pakistan kills at ...</td>\n",
       "      <td>B1</td>\n",
       "      <td>2</td>\n",
       "      <td>2</td>\n",
       "      <td>Pakistan</td>\n",
       "      <td>2004-06-17T00:00:00.000Z</td>\n",
       "      <td>6-8</td>\n",
       "      <td>...</td>\n",
       "      <td>1</td>\n",
       "      <td>32.30512565</td>\n",
       "      <td>South Waziristan</td>\n",
       "      <td>69.57624435</td>\n",
       "      <td>[Nek Mohammad, Fakhar Zaman, Azmat Khan, Marez...</td>\n",
       "      <td>The first known fatal US drone strike inside P...</td>\n",
       "      <td>2</td>\n",
       "      <td>Nek Mohammed</td>\n",
       "      <td>Wana</td>\n",
       "      <td>278544750867533824</td>\n",
       "    </tr>\n",
       "    <tr>\n",
       "      <th>2</th>\n",
       "      <td>55c79e711cbee48856a30888</td>\n",
       "      <td>[]</td>\n",
       "      <td>http://www.thebureauinvestigates.com/2011/08/1...</td>\n",
       "      <td>Two killed, including Haitham al-Yemeni an al ...</td>\n",
       "      <td>B2</td>\n",
       "      <td></td>\n",
       "      <td></td>\n",
       "      <td>Pakistan</td>\n",
       "      <td>2005-05-08T00:00:00.000Z</td>\n",
       "      <td>2</td>\n",
       "      <td>...</td>\n",
       "      <td></td>\n",
       "      <td>32.98677989</td>\n",
       "      <td>North Waziristan</td>\n",
       "      <td>70.26082993</td>\n",
       "      <td>[Haitham al-Yemeni, Samiullah Khan]</td>\n",
       "      <td>2 people killed in a Predator strike which rep...</td>\n",
       "      <td>3</td>\n",
       "      <td>Haitham al-Yemeni</td>\n",
       "      <td>Toorikhel</td>\n",
       "      <td>278544812255367168</td>\n",
       "    </tr>\n",
       "    <tr>\n",
       "      <th>3</th>\n",
       "      <td>55c79e721cbee48856a30889</td>\n",
       "      <td>[]</td>\n",
       "      <td>http://www.thebureauinvestigates.com/2011/08/1...</td>\n",
       "      <td>Failed strike against Abu Hamza Rabia (\"al Qae...</td>\n",
       "      <td>B3</td>\n",
       "      <td>3</td>\n",
       "      <td>3-8</td>\n",
       "      <td>Pakistan</td>\n",
       "      <td>2005-11-05T00:00:00.000Z</td>\n",
       "      <td>8</td>\n",
       "      <td>...</td>\n",
       "      <td>1</td>\n",
       "      <td>32.99988191</td>\n",
       "      <td>North Waziristan</td>\n",
       "      <td>70.34082413</td>\n",
       "      <td>[]</td>\n",
       "      <td>A failed strike destroyed Abu Hamza Rabia's ho...</td>\n",
       "      <td>4</td>\n",
       "      <td>Abu Hamza Rabia</td>\n",
       "      <td>Mosaki</td>\n",
       "      <td>278544854483628032</td>\n",
       "    </tr>\n",
       "    <tr>\n",
       "      <th>4</th>\n",
       "      <td>55c79e721cbee48856a3088a</td>\n",
       "      <td>[]</td>\n",
       "      <td>http://www.thebureauinvestigates.com/2011/08/1...</td>\n",
       "      <td>Syrian Abu Hamza Rabia, the senior al Qaeda op...</td>\n",
       "      <td>B4</td>\n",
       "      <td>2</td>\n",
       "      <td>2</td>\n",
       "      <td>Pakistan</td>\n",
       "      <td>2005-12-01T00:00:00.000Z</td>\n",
       "      <td>5</td>\n",
       "      <td>...</td>\n",
       "      <td></td>\n",
       "      <td>33.00866349</td>\n",
       "      <td>North Waziristan</td>\n",
       "      <td>70.04196167</td>\n",
       "      <td>[Abu Hamza Rabia, Suleiman al-Moghrabi, Amer A...</td>\n",
       "      <td>5 people were killed, including 2 children, wh...</td>\n",
       "      <td>5</td>\n",
       "      <td>Abu Hamza Rabia</td>\n",
       "      <td>Haisori</td>\n",
       "      <td>278544895789133825</td>\n",
       "    </tr>\n",
       "  </tbody>\n",
       "</table>\n",
       "<p>5 rows × 22 columns</p>\n",
       "</div>"
      ],
      "text/plain": [
       "                        _id articles  \\\n",
       "0  55c79e711cbee48856a30886       []   \n",
       "1  55c79e711cbee48856a30887       []   \n",
       "2  55c79e711cbee48856a30888       []   \n",
       "3  55c79e721cbee48856a30889       []   \n",
       "4  55c79e721cbee48856a3088a       []   \n",
       "\n",
       "                                            bij_link  \\\n",
       "0  http://www.thebureauinvestigates.com/2012/03/2...   \n",
       "1  http://www.thebureauinvestigates.com/2011/08/1...   \n",
       "2  http://www.thebureauinvestigates.com/2011/08/1...   \n",
       "3  http://www.thebureauinvestigates.com/2011/08/1...   \n",
       "4  http://www.thebureauinvestigates.com/2011/08/1...   \n",
       "\n",
       "                                   bij_summary_short bureau_id children  \\\n",
       "0  In the first known US targeted assassination u...    YEM001            \n",
       "1  First known drone strike in Pakistan kills at ...        B1        2   \n",
       "2  Two killed, including Haitham al-Yemeni an al ...        B2            \n",
       "3  Failed strike against Abu Hamza Rabia (\"al Qae...        B3        3   \n",
       "4  Syrian Abu Hamza Rabia, the senior al Qaeda op...        B4        2   \n",
       "\n",
       "  civilians   country                      date deaths         ...          \\\n",
       "0         0     Yemen  2002-11-03T00:00:00.000Z      6         ...           \n",
       "1         2  Pakistan  2004-06-17T00:00:00.000Z    6-8         ...           \n",
       "2            Pakistan  2005-05-08T00:00:00.000Z      2         ...           \n",
       "3       3-8  Pakistan  2005-11-05T00:00:00.000Z      8         ...           \n",
       "4         2  Pakistan  2005-12-01T00:00:00.000Z      5         ...           \n",
       "\n",
       "  injuries          lat          location          lon  \\\n",
       "0              15.47467    Marib Province    45.322755   \n",
       "1        1  32.30512565  South Waziristan  69.57624435   \n",
       "2           32.98677989  North Waziristan  70.26082993   \n",
       "3        1  32.99988191  North Waziristan  70.34082413   \n",
       "4           33.00866349  North Waziristan  70.04196167   \n",
       "\n",
       "                                               names  \\\n",
       "0  [Qa'id Salim Sinan al-Harithi, Abu Ahmad al-Hi...   \n",
       "1  [Nek Mohammad, Fakhar Zaman, Azmat Khan, Marez...   \n",
       "2                [Haitham al-Yemeni, Samiullah Khan]   \n",
       "3                                                 []   \n",
       "4  [Abu Hamza Rabia, Suleiman al-Moghrabi, Amer A...   \n",
       "\n",
       "                                           narrative number  \\\n",
       "0  In the first known US targeted assassination u...      1   \n",
       "1  The first known fatal US drone strike inside P...      2   \n",
       "2  2 people killed in a Predator strike which rep...      3   \n",
       "3  A failed strike destroyed Abu Hamza Rabia's ho...      4   \n",
       "4  5 people were killed, including 2 children, wh...      5   \n",
       "\n",
       "              target       town            tweet_id  \n",
       "0                                278544689483890688  \n",
       "1       Nek Mohammed       Wana  278544750867533824  \n",
       "2  Haitham al-Yemeni  Toorikhel  278544812255367168  \n",
       "3    Abu Hamza Rabia     Mosaki  278544854483628032  \n",
       "4    Abu Hamza Rabia    Haisori  278544895789133825  \n",
       "\n",
       "[5 rows x 22 columns]"
      ]
     },
     "execution_count": 4,
     "metadata": {},
     "output_type": "execute_result"
    }
   ],
   "source": [
    "drone_df.head()"
   ]
  },
  {
   "cell_type": "markdown",
   "metadata": {},
   "source": [
    "### Get the Info and Describe"
   ]
  },
  {
   "cell_type": "code",
   "execution_count": null,
   "metadata": {
    "collapsed": true
   },
   "outputs": [],
   "source": []
  },
  {
   "cell_type": "code",
   "execution_count": null,
   "metadata": {
    "collapsed": true
   },
   "outputs": [],
   "source": []
  },
  {
   "cell_type": "markdown",
   "metadata": {},
   "source": [
    "### Check the datatype"
   ]
  },
  {
   "cell_type": "code",
   "execution_count": null,
   "metadata": {
    "collapsed": true
   },
   "outputs": [],
   "source": []
  },
  {
   "cell_type": "code",
   "execution_count": null,
   "metadata": {
    "collapsed": true
   },
   "outputs": [],
   "source": []
  },
  {
   "cell_type": "markdown",
   "metadata": {},
   "source": [
    "### Convert any improper strings that was supposed to be numerical into numbers"
   ]
  },
  {
   "cell_type": "code",
   "execution_count": null,
   "metadata": {
    "collapsed": true
   },
   "outputs": [],
   "source": []
  },
  {
   "cell_type": "code",
   "execution_count": null,
   "metadata": {
    "collapsed": true
   },
   "outputs": [],
   "source": []
  },
  {
   "cell_type": "code",
   "execution_count": null,
   "metadata": {
    "collapsed": true
   },
   "outputs": [],
   "source": []
  },
  {
   "cell_type": "markdown",
   "metadata": {},
   "source": [
    "### Standardize Data"
   ]
  },
  {
   "cell_type": "code",
   "execution_count": null,
   "metadata": {
    "collapsed": true
   },
   "outputs": [],
   "source": [
    "#James"
   ]
  },
  {
   "cell_type": "code",
   "execution_count": 7,
   "metadata": {},
   "outputs": [
    {
     "data": {
      "text/html": [
       "<div>\n",
       "<style>\n",
       "    .dataframe thead tr:only-child th {\n",
       "        text-align: right;\n",
       "    }\n",
       "\n",
       "    .dataframe thead th {\n",
       "        text-align: left;\n",
       "    }\n",
       "\n",
       "    .dataframe tbody tr th {\n",
       "        vertical-align: top;\n",
       "    }\n",
       "</style>\n",
       "<table border=\"1\" class=\"dataframe\">\n",
       "  <thead>\n",
       "    <tr style=\"text-align: right;\">\n",
       "      <th></th>\n",
       "      <th>number</th>\n",
       "    </tr>\n",
       "  </thead>\n",
       "  <tbody>\n",
       "    <tr>\n",
       "      <th>count</th>\n",
       "      <td>647.000000</td>\n",
       "    </tr>\n",
       "    <tr>\n",
       "      <th>mean</th>\n",
       "      <td>324.000000</td>\n",
       "    </tr>\n",
       "    <tr>\n",
       "      <th>std</th>\n",
       "      <td>186.917094</td>\n",
       "    </tr>\n",
       "    <tr>\n",
       "      <th>min</th>\n",
       "      <td>1.000000</td>\n",
       "    </tr>\n",
       "    <tr>\n",
       "      <th>25%</th>\n",
       "      <td>162.500000</td>\n",
       "    </tr>\n",
       "    <tr>\n",
       "      <th>50%</th>\n",
       "      <td>324.000000</td>\n",
       "    </tr>\n",
       "    <tr>\n",
       "      <th>75%</th>\n",
       "      <td>485.500000</td>\n",
       "    </tr>\n",
       "    <tr>\n",
       "      <th>max</th>\n",
       "      <td>647.000000</td>\n",
       "    </tr>\n",
       "  </tbody>\n",
       "</table>\n",
       "</div>"
      ],
      "text/plain": [
       "           number\n",
       "count  647.000000\n",
       "mean   324.000000\n",
       "std    186.917094\n",
       "min      1.000000\n",
       "25%    162.500000\n",
       "50%    324.000000\n",
       "75%    485.500000\n",
       "max    647.000000"
      ]
     },
     "execution_count": 7,
     "metadata": {},
     "output_type": "execute_result"
    }
   ],
   "source": [
    "drone_df.describe"
   ]
  },
  {
   "cell_type": "markdown",
   "metadata": {},
   "source": [
    "### Replace missing numbers with NAN"
   ]
  },
  {
   "cell_type": "code",
   "execution_count": null,
   "metadata": {
    "collapsed": true
   },
   "outputs": [],
   "source": [
    "#James"
   ]
  },
  {
   "cell_type": "code",
   "execution_count": null,
   "metadata": {
    "collapsed": true
   },
   "outputs": [],
   "source": []
  },
  {
   "cell_type": "markdown",
   "metadata": {},
   "source": []
  },
  {
   "cell_type": "markdown",
   "metadata": {},
   "source": [
    "### Visualize some plots for the Data"
   ]
  },
  {
   "cell_type": "code",
   "execution_count": null,
   "metadata": {
    "collapsed": true
   },
   "outputs": [],
   "source": []
  },
  {
   "cell_type": "code",
   "execution_count": null,
   "metadata": {
    "collapsed": true
   },
   "outputs": [],
   "source": []
  },
  {
   "cell_type": "code",
   "execution_count": null,
   "metadata": {
    "collapsed": true
   },
   "outputs": [],
   "source": []
  },
  {
   "cell_type": "code",
   "execution_count": null,
   "metadata": {
    "collapsed": true
   },
   "outputs": [],
   "source": []
  },
  {
   "cell_type": "markdown",
   "metadata": {},
   "source": [
    "### Get the covariance and corelation of the data"
   ]
  },
  {
   "cell_type": "code",
   "execution_count": null,
   "metadata": {
    "collapsed": true
   },
   "outputs": [],
   "source": []
  }
 ],
 "metadata": {
  "kernelspec": {
   "display_name": "Python 2",
   "language": "python",
   "name": "python2"
  },
  "language_info": {
   "codemirror_mode": {
    "name": "ipython",
    "version": 2
   },
   "file_extension": ".py",
   "mimetype": "text/x-python",
   "name": "python",
   "nbconvert_exporter": "python",
   "pygments_lexer": "ipython2",
   "version": "2.7.13"
  }
 },
 "nbformat": 4,
 "nbformat_minor": 2
}
